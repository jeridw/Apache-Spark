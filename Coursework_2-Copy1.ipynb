{
 "cells": [
  {
   "cell_type": "markdown",
   "metadata": {},
   "source": [
    "# 1. Component 1: Topic proposal"
   ]
  },
  {
   "cell_type": "markdown",
   "metadata": {},
   "source": [
    "## 1.1 Introduction"
   ]
  },
  {
   "cell_type": "markdown",
   "metadata": {},
   "source": [
    "For my project, I've selected a synthetic dataset known as \"Fraudulent E-Commerce Transactions.\" This dataset was created to simulate typical online shopping transactions, with a specific focus on detecting fraudulent activities. It comprises an extensive set of 1,472,952 transactions and has 16 features that capture a wide range of information relevant to both genuine and fraudulent transactions.\n",
    "\n",
    "In my analysis, I'm particularly interested in the 'Transaction ID' and 'Customer ID,' which uniquely identify each transaction and customer, respectively. The 'Transaction Amount' and 'Transaction Date' provide financial and temporal details of each purchase. Payment methods include options like credit cards and PayPal, and the 'Product Category' gives insights into what was bought. The 'Quantity' field shows the number of items per transaction.\n",
    "\n",
    "Customer demographics are captured in fields like 'Customer Age' and 'Customer Location,' which help in profiling typical purchasing patterns. The type of device used, along with the IP address from which the transaction was created, offers additional layers of data for analysing access patterns and potential security breaches. Shipping and billing addresses might highlight discrepancies used to flag frauds.\n",
    "\n",
    "Moreover, the dataset includes an 'Is Fraudulent' label, marking each transaction as fraudulent or legitimate, which is crucial for my goal of training machine learning models to detect fraud. The 'Account Age Days' and 'Transaction Hour' provide further context, revealing how newly created accounts might behave and at what times transactions occur, which can be indicative of fraud.\n",
    "\n",
    "This dataset is entirely synthetic, generated through Python's Faker library and tailored algorithms to reflect realistic transaction patterns, including fraudulent scenarios. It's intended solely for educational and research purposes, providing a safe and ethical way to study fraud detection without compromising real personal data.\n",
    "\n",
    "As I dive into this dataset, my objective is to use some of these detailed features to build robust models that can not only detect fraudulent transactions with high accuracy but also offer insights into the dynamics of e-commerce fraud. This work could then be used as a benchmark for developing and testing future fraud detection systems in a controlled, scalable manner.\n",
    "\n",
    "I will aim to answer:\n",
    "\n",
    "Can we identify characteristics of customers who are more likely to be involved in fraudulent transactions?\n",
    "\n",
    "What are the key features that contribute to the likelihood of a transaction being fraudulent?\n",
    "\n",
    "Can we build an accurate machine learning model to predict whether a transaction is fraudulent or not?"
   ]
  },
  {
   "cell_type": "markdown",
   "metadata": {},
   "source": [
    "## 1.2 Dataset\n",
    "\n",
    "I found my data in Kaggle: https://www.kaggle.com/datasets/shriyashjagtap/fraudulent-e-commerce-transactions\n",
    "\n",
    "Note: The notebook submitted is already run as it is time-consuming to run again.\n",
    "\n",
    "The choice of a 393 MB dataset was strategic and aimed at demonstrating the methodology's effectiveness before scaling up. I tried previous larger datasets for fraud; however, it seemed to be very time-consuming with it taking typically 6 to 8 hours to run. Even though it still took a couple of hours to run, this size proved sufficient to validate the functionality of data processing pipelines while being manageable within the computational resources available.\n",
    "\n",
    "For my analysis, I will use Apache Spark and its MLlib library, both of which are staples in the industry for handling large datasets in a distributed computing environment. Spark can scale horizontally, allowing for the same analytical processes to be applied to larger datasets without significant alterations to the code.  Moreover, MLlib provides robust machine-learning algorithms that can be tuned and optimised for a variety of tasks, including binary classification.\n",
    "\n",
    "In practice, the predictive model developed in this coursework could be useful in an e-commerce platform's fraud detection system. By predicting fraudulent transactions accurately, this model can help in flagging and handling suspicious activities. This will help mitigate any potential losses. Additionally, the insights gained from the model’s predictions could inform strategic decisions regarding resource allocation, customer service, and security measures. \n",
    "For my project proposal, I will start with data pre-processing to ensure that the data is ready for effective EDA and modelling. Following this, I will apply various machine learning models, including Random Forest, Logistic Regression, and Gradient Boosted Trees, to train and evaluate. The best model will then be tuned using techniques such as random search to optimise their performance. It is important to consider that in a real-world scenario, the patterns of fraudulent transactions may evolve as the e-commerce environment is always changing. Therefore, these models need to be regularly updated with the new data to remain accurate and relevant. Spark allows for real-time fraud detection as the developed model can be saved and distributed across the e-commerce platform."
   ]
  },
  {
   "cell_type": "markdown",
   "metadata": {},
   "source": [
    "# 2. Component 2: Implementation of the proposed project"
   ]
  },
  {
   "cell_type": "code",
   "execution_count": null,
   "metadata": {},
   "outputs": [],
   "source": [
    "# Copy the data from local disk to the cluster\n",
    "\n",
    "#scp /Users/jerid/Downloads/archive/\"Fraudulent_E-Commerce_Transaction_Data.csv\" xxx@dsm1.doc.gold.ac.uk:~\n",
    "\n",
    "#create the frauddata directory in HDFS\n",
    "\n",
    "#hadoop fs -mkdir -p /user/xxx/frauddata\n",
    "\n",
    "# Copy directory onto HDFS\n",
    "\n",
    "#hdfs dfs -put ~/Fraudulent_E-Commerce_Transaction_Data.csv /user/xxx/frauddata/"
   ]
  },
  {
   "cell_type": "code",
   "execution_count": 1,
   "metadata": {},
   "outputs": [],
   "source": [
    "import pyspark\n",
    "from pyspark import SparkContext, SparkConf \n",
    "from pyspark.ml.feature import MinMaxScaler\n",
    "from pyspark.ml.linalg import Vectors\n",
    "from pyspark.ml.feature import VectorAssembler\n",
    "from pyspark.sql import SQLContext\n",
    "import pandas as pd\n",
    "from pyspark.mllib.stat import Statistics\n",
    "from pyspark.sql.functions import mean, stddev, min, max, count\n",
    "import seaborn as sns\n",
    "import matplotlib.pyplot as plt\n",
    "from pyspark.sql.functions import col\n",
    "from pyspark.sql.functions import col, when\n",
    "from pyspark.ml.feature import StringIndexer\n",
    "from pyspark.sql.types import IntegerType, DoubleType\n",
    "from pyspark.sql.functions import udf\n",
    "from pyspark.sql.types import StringType\n",
    "from pyspark.sql.functions import col, lower, regexp_replace, trim\n",
    "from pyspark.ml.feature import OneHotEncoder, StringIndexer, VectorAssembler\n",
    "from pyspark.ml import Pipeline\n",
    "from pyspark.sql.functions import mean, stddev, min, max, count\n",
    "from pyspark.sql.functions import when\n",
    "from pyspark.ml.feature import OneHotEncoder, StringIndexer, VectorAssembler\n",
    "from pyspark.ml import Pipeline\n",
    "from pyspark.ml.feature import MinMaxScaler\n",
    "from pyspark.mllib.regression import LabeledPoint\n",
    "from pyspark.ml.classification import NaiveBayes\n",
    "from pyspark.ml.evaluation import BinaryClassificationEvaluator\n",
    "from pyspark.ml.evaluation import MulticlassClassificationEvaluator\n",
    "from pyspark.ml.classification import LogisticRegression\n",
    "from pyspark.ml.classification import DecisionTreeClassifier\n",
    "from pyspark.ml.classification import RandomForestClassifier\n",
    "from pyspark.ml.classification import GBTClassifier\n",
    "from pyspark.ml.tuning import CrossValidator, ParamGridBuilder"
   ]
  },
  {
   "cell_type": "code",
   "execution_count": 2,
   "metadata": {},
   "outputs": [],
   "source": [
    "# Initialize Spark Context\n",
    "conf = SparkConf().setAppName(\"fraud_analysis\").set(\"spark.driver.maxResultSize\", \"0\")\n",
    "sc = SparkContext(conf=conf)\n",
    "sq = SQLContext(sc)"
   ]
  },
  {
   "cell_type": "code",
   "execution_count": 3,
   "metadata": {},
   "outputs": [],
   "source": [
    "# Define the paths to the CSV files in HDFS\n",
    "datapath = \"hdfs:///user/xxx/frauddata/Fraudulent_E-Commerce_Transaction_Data.csv\""
   ]
  },
  {
   "cell_type": "code",
   "execution_count": null,
   "metadata": {},
   "outputs": [],
   "source": [
    "# Import data as DataFrames\n",
    "#fraud_df = sq.read.csv(datapath, header=True, inferSchema=True)"
   ]
  },
  {
   "cell_type": "code",
   "execution_count": null,
   "metadata": {
    "scrolled": true
   },
   "outputs": [],
   "source": [
    "# Verify the type\n",
    "#print(type(fraud_df))\n",
    "\n",
    "# Show the first few rows\n",
    "#fraud_df.show()"
   ]
  },
  {
   "cell_type": "code",
   "execution_count": null,
   "metadata": {},
   "outputs": [],
   "source": [
    "# Count missing values per column\n",
    "#for column in fraud_df.columns:\n",
    "    #missing_count = fraud_df.filter((col(column) == \"\") | col(column).isNull() | (col(column) == \"null\")).count()\n",
    "    #if missing_count > 0:\n",
    "        #print(f\"Column {column} has {missing_count} missing values\")"
   ]
  },
  {
   "cell_type": "markdown",
   "metadata": {},
   "source": [
    "The data looked like it was not read correctly as there were many null values. I then double checked the null values to see if it was correct. However, I could still see that the file was not being read properly, suggesting that Spark was unable to correctly parse the CSV file. I have commented this out for easy reading but chose to keep it in as an example for troubleshooting challenges. \n",
    "\n",
    "I am now going to check the multiline option by checking that it is set to True to handle entries across multiple lines properly. "
   ]
  },
  {
   "cell_type": "code",
   "execution_count": 4,
   "metadata": {
    "scrolled": true
   },
   "outputs": [
    {
     "name": "stdout",
     "output_type": "stream",
     "text": [
      "+--------------------+--------------------+------------------+-------------------+--------------+----------------+--------+------------+-----------------+-----------+---------------+--------------------+--------------------+-------------+----------------+-----------------+\n",
      "|\n",
      "+--------------------+--------------------+------------------+-------------------+--------------+----------------+--------+------------+-----------------+-----------+---------------+--------------------+--------------------+-------------+----------------+-----------------+\n",
      "|15d2e414-8735-46f...|d1b87f62-51b2-493...|             58.09|2024-02-20 05:58:41| bank transfer|     electronics|       1|          17|    Amandaborough|     tablet| 212.195.49.198|Unit 8934 Box 005...|Unit 8934 Box 005...|            0|              30|              5.0|\n",
      "|0bfee1a0-6d5e-40d...|37de64d5-e901-4a5...|            389.96|2024-02-25 08:09:45|    debit card|     electronics|       2|          40|     East Timothy|    desktop|208.106.249.121|634 May Keys\n",
      "Port...|634 May Keys\n",
      "Port...|            0|              72|              8.0|\n",
      "|e588eef4-b754-468...|1bac88d6-4b22-409...|            134.19|2024-03-18 03:42:55|        PayPal|   home & garden|       2|          22|       Davismouth|     tablet|   76.63.88.212|16282 Dana Falls ...|16282 Dana Falls ...|            0|              63|              3.0|\n",
      "|4de46e52-60c3-49d...|2357c76e-9253-4ce...|            226.17|2024-03-16 20:41:31| bank transfer|        clothing|       5|          31|         Lynnberg|    desktop| 207.208.171.73|828 Strong Loaf A...|828 Strong Loaf A...|            0|             124|             20.0|\n",
      "|074a76de-fe2d-443...|45071bc5-9588-43e...|            121.53|2024-01-15 05:08:17| bank transfer|        clothing|       2|          51|     South Nicole|     tablet| 190.172.14.169|29799 Jason Hills...|29799 Jason Hills...|            0|             158|              5.0|\n",
      "+--------------------+--------------------+------------------+-------------------+--------------+----------------+--------+------------+-----------------+-----------+---------------+--------------------+--------------------+-------------+----------------+-----------------+\n",
      "only showing top 5 rows\n",
      "\n",
      "root\n",
      " |-- Transaction ID: string (nullable = true)\n",
      " |-- Customer ID: string (nullable = true)\n",
      " |-- Transaction Amount: double (nullable = true)\n",
      " |-- Transaction Date: timestamp (nullable = true)\n",
      " |-- Payment Method: string (nullable = true)\n",
      " |-- Product Category: string (nullable = true)\n",
      " |-- Quantity: integer (nullable = true)\n",
      " |-- Customer Age: integer (nullable = true)\n",
      " |-- Customer Location: string (nullable = true)\n",
      " |-- Device Used: string (nullable = true)\n",
      " |-- IP Address: string (nullable = true)\n",
      " |-- Shipping Address: string (nullable = true)\n",
      " |-- Billing Address: string (nullable = true)\n",
      " |-- Is Fraudulent: integer (nullable = true)\n",
      " |-- Account Age Days: integer (nullable = true)\n",
      ": double (nullable = true)\n",
      "\n"
     ]
    }
   ],
   "source": [
    "# Read the CSV file\n",
    "fraud_df = sq.read.csv(\n",
    "    datapath,\n",
    "    header=True,\n",
    "    inferSchema=True,\n",
    "    multiLine=True,\n",
    "    escape='\"'\n",
    ")\n",
    "fraud_df.show(5)\n",
    "fraud_df.printSchema()"
   ]
  },
  {
   "cell_type": "markdown",
   "metadata": {},
   "source": [
    "The multiline has properly handled the multi-line address field and showing no non-null values in the output. Now that the data has loaded been successfully I will briefly check the data with the describe function and then move on to the data cleaning. "
   ]
  },
  {
   "cell_type": "code",
   "execution_count": 5,
   "metadata": {},
   "outputs": [
    {
     "name": "stdout",
     "output_type": "stream",
     "text": [
      "+-------+--------------------+--------------------+------------------+--------------+----------------+-----------------+------------------+-----------------+-----------+-----------+--------------------+--------------------+-------------------+------------------+-----------------+\n",
      "|\n",
      "+-------+--------------------+--------------------+------------------+--------------+----------------+-----------------+------------------+-----------------+-----------+-----------+--------------------+--------------------+-------------------+------------------+-----------------+\n",
      "|  count|             1472952|             1472952|           1472952|       1472952|         1472952|          1472952|           1472952|          1472952|    1472952|    1472952|             1472952|             1472952|            1472952|           1472952|          1472952|\n",
      "|   mean|                null|                null| 226.7683092388607|          null|            null| 3.00023015006599|  34.5120811811926|             null|       null|       null|                null|                null|0.05012926422585393|179.64639784595832|11.28696386576073|\n",
      "| stddev|                null|                null|270.39509886795645|          null|            null|1.414736473764559|10.003134338650726|             null|       null|       null|                null|                null|0.21821171696585512| 106.8642230429199|6.975995283914701|\n",
      "|    min|00000d71-ae44-44b...|00000b1f-6bbc-45e...|              10.0|        PayPal|        clothing|                1|               -16|        Aaronberg|    desktop| 1.0.108.41|000 Adams Shoals ...|000 Adams Shoals ...|                  0|                 1|              0.0|\n",
      "|    max|fffffeda-3415-421...|fffffef7-0eed-451...|          12701.75|    debit card|    toys & games|                5|                86|      Zunigaville|     tablet|99.99.9.126|Unit 9999 Box 989...|Unit 9999 Box 989...|                  1|               365|             23.0|\n",
      "+-------+--------------------+--------------------+------------------+--------------+----------------+-----------------+------------------+-----------------+-----------+-----------+--------------------+--------------------+-------------------+------------------+-----------------+\n",
      "\n"
     ]
    }
   ],
   "source": [
    "fraud_df.describe().show()"
   ]
  },
  {
   "cell_type": "markdown",
   "metadata": {},
   "source": [
    "### 2.1 Data Cleaning"
   ]
  },
  {
   "cell_type": "markdown",
   "metadata": {},
   "source": [
    "#### Checking duplicates"
   ]
  },
  {
   "cell_type": "code",
   "execution_count": 6,
   "metadata": {},
   "outputs": [
    {
     "name": "stdout",
     "output_type": "stream",
     "text": [
      "+--------------+-----+\n",
      "|Transaction ID|count|\n",
      "+--------------+-----+\n",
      "+--------------+-----+\n",
      "\n"
     ]
    }
   ],
   "source": [
    "#I will check for duplicates in transaction id column\n",
    "duplicate_transaction_ids = fraud_df.groupBy(\"Transaction ID\")\\\n",
    "                                    .count()\\\n",
    "                                    .filter(col(\"count\") > 1)\n",
    "\n",
    "# Now I will display duplicate Transaction IDs and their counts\n",
    "duplicate_transaction_ids.show()"
   ]
  },
  {
   "cell_type": "markdown",
   "metadata": {},
   "source": [
    "There are no duplicates. "
   ]
  },
  {
   "cell_type": "markdown",
   "metadata": {},
   "source": [
    "#### Checking for missing values"
   ]
  },
  {
   "cell_type": "code",
   "execution_count": 7,
   "metadata": {},
   "outputs": [
    {
     "name": "stdout",
     "output_type": "stream",
     "text": [
      "Column Transaction ID has 0 missing values\n",
      "Column Customer ID has 0 missing values\n",
      "Column Transaction Amount has 0 missing values\n",
      "Column Transaction Date has 0 missing values\n",
      "Column Payment Method has 0 missing values\n",
      "Column Product Category has 0 missing values\n",
      "Column Quantity has 0 missing values\n",
      "Column Customer Age has 0 missing values\n",
      "Column Customer Location has 0 missing values\n",
      "Column Device Used has 0 missing values\n",
      "Column IP Address has 0 missing values\n",
      "Column Shipping Address has 0 missing values\n",
      "Column Billing Address has 0 missing values\n",
      "Column Is Fraudulent has 0 missing values\n",
      "Column Account Age Days has 0 missing values\n",
      " has 0 missing valuesur\n"
     ]
    }
   ],
   "source": [
    "# Count missing values per column\n",
    "for column in fraud_df.columns:\n",
    "    missing_count = fraud_df.filter((col(column) == \"\") | col(column).isNull() | (col(column) == \"null\")).count()\n",
    "    # Print missing values count for every column\n",
    "    print(f\"Column {column} has {missing_count} missing values\")"
   ]
  },
  {
   "cell_type": "markdown",
   "metadata": {},
   "source": [
    "In my analysis, I took a systematic approach to examine the presence of missing values across all columns in the dataset. Using a simple yet effective Spark SQL function, I iterated through each column to count and print the number of missing entries. There were no missing values. If there were missing values, where missing data may not compromise the transaction's validity, I may have chosen to impute missing values using statistical methods (median for numerical data and mode for categorical data)."
   ]
  },
  {
   "cell_type": "markdown",
   "metadata": {},
   "source": [
    "#### Converting Data Types"
   ]
  },
  {
   "cell_type": "markdown",
   "metadata": {},
   "source": [
    "Ensuring that each feature in the dataset is the correct data type is another vital step in my preprocessing efforts. I will convert key numerical fields that were initially read as strings into more appropriate data types, enabling accurate numerical operations and analysis:"
   ]
  },
  {
   "cell_type": "code",
   "execution_count": 10,
   "metadata": {
    "scrolled": true
   },
   "outputs": [
    {
     "name": "stdout",
     "output_type": "stream",
     "text": [
      "root\n",
      " |-- Transaction ID: string (nullable = true)\n",
      " |-- Customer ID: string (nullable = true)\n",
      " |-- Transaction Amount: double (nullable = true)\n",
      " |-- Transaction Date: timestamp (nullable = true)\n",
      " |-- Payment Method: string (nullable = true)\n",
      " |-- Product Category: string (nullable = true)\n",
      " |-- Quantity: integer (nullable = true)\n",
      " |-- Customer Age: integer (nullable = true)\n",
      " |-- Customer Location: string (nullable = true)\n",
      " |-- Device Used: string (nullable = true)\n",
      " |-- IP Address: string (nullable = true)\n",
      " |-- Shipping Address: string (nullable = true)\n",
      " |-- Billing Address: string (nullable = true)\n",
      " |-- Is Fraudulent: integer (nullable = true)\n",
      " |-- Account Age Days: integer (nullable = true)\n",
      " |-- Transaction Hour: integer (nullable = true)\n",
      "\n",
      "+--------------------+--------------------+------------------+-------------------+--------------+----------------+--------+------------+-----------------+-----------+---------------+--------------------+--------------------+-------------+----------------+----------------+\n",
      "|      Transaction ID|         Customer ID|Transaction Amount|   Transaction Date|Payment Method|Product Category|Quantity|Customer Age|Customer Location|Device Used|     IP Address|    Shipping Address|     Billing Address|Is Fraudulent|Account Age Days|Transaction Hour|\n",
      "+--------------------+--------------------+------------------+-------------------+--------------+----------------+--------+------------+-----------------+-----------+---------------+--------------------+--------------------+-------------+----------------+----------------+\n",
      "|15d2e414-8735-46f...|d1b87f62-51b2-493...|             58.09|2024-02-20 05:58:41| bank transfer|     electronics|       1|          17|    Amandaborough|     tablet| 212.195.49.198|Unit 8934 Box 005...|Unit 8934 Box 005...|            0|              30|               5|\n",
      "|0bfee1a0-6d5e-40d...|37de64d5-e901-4a5...|            389.96|2024-02-25 08:09:45|    debit card|     electronics|       2|          40|     East Timothy|    desktop|208.106.249.121|634 May Keys\n",
      "Port...|634 May Keys\n",
      "Port...|            0|              72|               8|\n",
      "|e588eef4-b754-468...|1bac88d6-4b22-409...|            134.19|2024-03-18 03:42:55|        PayPal|   home & garden|       2|          22|       Davismouth|     tablet|   76.63.88.212|16282 Dana Falls ...|16282 Dana Falls ...|            0|              63|               3|\n",
      "|4de46e52-60c3-49d...|2357c76e-9253-4ce...|            226.17|2024-03-16 20:41:31| bank transfer|        clothing|       5|          31|         Lynnberg|    desktop| 207.208.171.73|828 Strong Loaf A...|828 Strong Loaf A...|            0|             124|              20|\n",
      "|074a76de-fe2d-443...|45071bc5-9588-43e...|            121.53|2024-01-15 05:08:17| bank transfer|        clothing|       2|          51|     South Nicole|     tablet| 190.172.14.169|29799 Jason Hills...|29799 Jason Hills...|            0|             158|               5|\n",
      "+--------------------+--------------------+------------------+-------------------+--------------+----------------+--------+------------+-----------------+-----------+---------------+--------------------+--------------------+-------------+----------------+----------------+\n",
      "only showing top 5 rows\n",
      "\n"
     ]
    }
   ],
   "source": [
    "# Converting the string to double for Transaction Amount\n",
    "fraud_df = fraud_df.withColumn(\"Transaction Amount\", col(\"Transaction Amount\").cast(DoubleType()))\n",
    "\n",
    "# Converting string to integer for Account Age Days and Transaction Hour\n",
    "fraud_df = fraud_df.withColumn(\"Account Age Days\", col(\"Account Age Days\").cast(IntegerType()))\n",
    "\n",
    "fraud_df = fraud_df.withColumnRenamed(\"Transaction Hour\\r\", \"Transaction Hour\")\n",
    "fraud_df = fraud_df.withColumn(\"Transaction Hour\", col(\"Transaction Hour\").cast(IntegerType()))\n",
    "\n",
    "# Printing the updated schema to confirm the changes\n",
    "fraud_df.printSchema()\n",
    "\n",
    "# I will now show some data to verify the casts were successful\n",
    "fraud_df.show(5)"
   ]
  },
  {
   "cell_type": "markdown",
   "metadata": {},
   "source": [
    "#### Gaining Insights through Statistics"
   ]
  },
  {
   "cell_type": "code",
   "execution_count": 11,
   "metadata": {
    "scrolled": true
   },
   "outputs": [
    {
     "name": "stdout",
     "output_type": "stream",
     "text": [
      "+-------+------------------+------------------+------------------+-----------------+-----------------+\n",
      "|summary|Transaction Amount|      Customer Age|  Account Age Days| Transaction Hour|         Quantity|\n",
      "+-------+------------------+------------------+------------------+-----------------+-----------------+\n",
      "|  count|           1472952|           1472952|           1472952|          1472952|          1472952|\n",
      "|   mean| 226.7683092388607|  34.5120811811926|179.64639784595832|11.28696386576073| 3.00023015006599|\n",
      "| stddev|270.39509886795645|10.003134338650726| 106.8642230429199|6.975995283914701|1.414736473764559|\n",
      "|    min|              10.0|               -16|                 1|                0|                1|\n",
      "|    max|          12701.75|                86|               365|               23|                5|\n",
      "+-------+------------------+------------------+------------------+-----------------+-----------------+\n",
      "\n"
     ]
    }
   ],
   "source": [
    "# Select numerical columns for summary statistics\n",
    "numerical_columns = [\"Transaction Amount\", \"Customer Age\", \"Account Age Days\", \"Transaction Hour\", \"Quantity\"]\n",
    "\n",
    "# Compute basic statistics\n",
    "stats = fraud_df.select(numerical_columns).describe().show()"
   ]
  },
  {
   "cell_type": "markdown",
   "metadata": {},
   "source": [
    "Generally, the variables look okay. Given the range from 1 to 365, the data shows how \"old\" most accounts are, which helps in identifying any patterns related to the account age and fraudulent activities. Furthermore, the Transaction Hour reveals patterns about when transactions typically occur, e.g.,a high number of transactions occurring at unusual hours. However, there seems to be an anomaly of a negative age with a minimum of -16. Also, the transaction amount seems to have a high standard deviation. Therefore, visualising this later in the EDA will be helpful to understand the skewness or presence of outliers in transaction values. Visualising the rest of the variables will also be helpful to better understand the data. Since age cannot be negative I will handle this first."
   ]
  },
  {
   "cell_type": "markdown",
   "metadata": {},
   "source": [
    "#### Correcting the Age by replacing them with the average age of non-negative values"
   ]
  },
  {
   "cell_type": "code",
   "execution_count": 14,
   "metadata": {},
   "outputs": [
    {
     "name": "stdout",
     "output_type": "stream",
     "text": [
      "+-------+-----------------+\n",
      "|summary|     Customer Age|\n",
      "+-------+-----------------+\n",
      "|  count|          1472952|\n",
      "|   mean|34.52500964050424|\n",
      "| stddev|9.980012786154026|\n",
      "|    min|              1.0|\n",
      "|    max|             86.0|\n",
      "+-------+-----------------+\n",
      "\n"
     ]
    }
   ],
   "source": [
    "# Calculate the median of ages greater than zero\n",
    "median_age = fraud_df.filter(col(\"Customer Age\") > 0).approxQuantile(\"Customer Age\", [0.5], 0)[0]\n",
    "\n",
    "# Replace ages of zero or negative with the median age\n",
    "fraud_df = fraud_df.withColumn(\"Customer Age\", \n",
    "                               when((col(\"Customer Age\") <= 0), median_age)\n",
    "                               .otherwise(col(\"Customer Age\")))\n",
    "\n",
    "fraud_df.describe(\"Customer Age\").show()"
   ]
  },
  {
   "cell_type": "markdown",
   "metadata": {},
   "source": [
    "#### Checking and Filtering Out Incorrect Entries"
   ]
  },
  {
   "cell_type": "code",
   "execution_count": 15,
   "metadata": {},
   "outputs": [
    {
     "name": "stdout",
     "output_type": "stream",
     "text": [
      "+-------+------------------+\n",
      "|summary|Transaction Amount|\n",
      "+-------+------------------+\n",
      "|  count|           1472952|\n",
      "|   mean| 226.7683092388607|\n",
      "| stddev|270.39509886795645|\n",
      "|    min|              10.0|\n",
      "|    max|          12701.75|\n",
      "+-------+------------------+\n",
      "\n"
     ]
    }
   ],
   "source": [
    "# The 'Transaction Amount' should logically be greater than zero\n",
    "fraud_df = fraud_df.filter(col(\"Transaction Amount\") > 0)\n",
    "fraud_df.describe(\"Transaction Amount\").show()"
   ]
  },
  {
   "cell_type": "markdown",
   "metadata": {},
   "source": [
    "#### Checking unique values for each variable"
   ]
  },
  {
   "cell_type": "code",
   "execution_count": 16,
   "metadata": {},
   "outputs": [
    {
     "name": "stdout",
     "output_type": "stream",
     "text": [
      "{'Transaction ID': 1472952, 'Customer ID': 1472952, 'Transaction Amount': 110385, 'Transaction Date': 1346595, 'Payment Method': 4, 'Product Category': 5, 'Quantity': 5, 'Customer Age': 82, 'Customer Location': 99135, 'Device Used': 3, 'IP Address': 1472651, 'Shipping Address': 1472948, 'Billing Address': 1472949, 'Is Fraudulent': 2, 'Account Age Days': 365, 'Transaction Hour': 24}\n"
     ]
    }
   ],
   "source": [
    "# I will create a dictionary with column names as keys and the count of distinct values as values\n",
    "unique_counts = {c: fraud_df.select(c).distinct().count() for c in fraud_df.columns}\n",
    "\n",
    "# I will now look at the dictionary of unique counts\n",
    "print(unique_counts)"
   ]
  },
  {
   "cell_type": "markdown",
   "metadata": {},
   "source": [
    "The transaction ID is 1,472,952. This suggests that there are 1,472,952 unique transaction IDs, indicating unique transactions. This is correct as it matches the amount in the dataset description. The customer ID also matches this, which suggests that each transaction is linked to a unique customer. We can see several other records that are numerical and categorical. We can also see that there are only 2 categories for the target class 'Is Fraudelent', indicating a binary classification of transactions as fraudulent or not.  "
   ]
  },
  {
   "cell_type": "markdown",
   "metadata": {},
   "source": [
    "#### Drop unnecessary columns like 'Transaction ID' and 'Customer ID' "
   ]
  },
  {
   "cell_type": "markdown",
   "metadata": {},
   "source": [
    "In this project we will drop  columns like Transaction ID, Customer ID, Transaction Date,Customer Location and the IP Address so that we can focus on our objectives of identifying the characteristics of customers who are most likely to be involved in fraudaulent transactions. "
   ]
  },
  {
   "cell_type": "code",
   "execution_count": 18,
   "metadata": {},
   "outputs": [
    {
     "name": "stdout",
     "output_type": "stream",
     "text": [
      "['Transaction Amount', 'Payment Method', 'Product Category', 'Quantity', 'Customer Age', 'Device Used', 'Shipping Address', 'Billing Address', 'Is Fraudulent', 'Account Age Days', 'Transaction Hour']\n"
     ]
    }
   ],
   "source": [
    "fraud_df = fraud_df.drop(\"Transaction ID\", \"Customer ID\",\"Transaction Date\",\"Customer Location\",\"IP Address\")\n",
    "\n",
    "print(fraud_df.columns)"
   ]
  },
  {
   "cell_type": "markdown",
   "metadata": {},
   "source": [
    "The steps taken in the data cleaning phase were designed to ensure the high quality and reliability of the data feeding into my fraud detection models. By addressing missing values and data type inaccuracies, I aimed to lay a robust foundation for further data analysis and predictive modeling, which leads to more reliable and effective fraud detection capabilities."
   ]
  },
  {
   "cell_type": "markdown",
   "metadata": {},
   "source": [
    "### 2.2 EDA"
   ]
  },
  {
   "cell_type": "code",
   "execution_count": 26,
   "metadata": {
    "scrolled": true
   },
   "outputs": [
    {
     "data": {
      "image/png": "[encoded data removed]",
      "text/plain": [
       "<Figure size 720x576 with 2 Axes>"
      ]
     },
     "metadata": {
      "needs_background": "light"
     },
     "output_type": "display_data"
    }
   ],
   "source": [
    "# Select a subset of numerical columns for correlation analysis\n",
    "numerical_columns = ['Transaction Amount', 'Customer Age', 'Account Age Days', 'Transaction Hour', 'Quantity', 'Is Fraudulent']\n",
    "\n",
    "# Compute correlation matrix\n",
    "correlation_data = Statistics.corr(fraud_df.select(numerical_columns).rdd.map(lambda v: Vectors.dense(v)), method=\"pearson\")\n",
    "\n",
    "# Convert to Pandas DataFrame for plotting\n",
    "correlation_df = pd.DataFrame(correlation_data, columns=numerical_columns, index=numerical_columns)\n",
    "\n",
    "# Plot the heatmap\n",
    "plt.figure(figsize=(10, 8))\n",
    "sns.heatmap(correlation_df, annot=True, cmap='coolwarm')\n",
    "plt.title('Correlation Matrix')\n",
    "plt.show()"
   ]
  },
  {
   "cell_type": "markdown",
   "metadata": {},
   "source": [
    "I would like to do a number-by-number analysis and have a text based record of this:"
   ]
  },
  {
   "cell_type": "code",
   "execution_count": 27,
   "metadata": {},
   "outputs": [
    {
     "name": "stdout",
     "output_type": "stream",
     "text": [
      "Correlation between Transaction Amount and Customer Age: 0.000281285549514959\n",
      "Correlation between Transaction Amount and Account Age Days: -0.03573307121531578\n",
      "Correlation between Transaction Amount and Transaction Hour: -0.029909177232542862\n",
      "Correlation between Transaction Amount and Quantity: -0.0006516208189054034\n",
      "Correlation between Transaction Amount and Is Fraudulent: 0.27276583085786876\n",
      "Correlation between Customer Age and Transaction Amount: 0.0002812855495149618\n",
      "Correlation between Customer Age and Account Age Days: 0.0005451818735390883\n",
      "Correlation between Customer Age and Transaction Hour: 0.0013585476508331629\n",
      "Correlation between Customer Age and Quantity: 0.0007690644456886625\n",
      "Correlation between Customer Age and Is Fraudulent: -0.0011564766228441099\n",
      "Correlation between Account Age Days and Transaction Amount: -0.03573307121531579\n",
      "Correlation between Account Age Days and Customer Age: 0.0005451818735390913\n",
      "Correlation between Account Age Days and Transaction Hour: 0.01640918648274206\n",
      "Correlation between Account Age Days and Quantity: 0.0012115842072339957\n",
      "Correlation between Account Age Days and Is Fraudulent: -0.13618750448708092\n",
      "Correlation between Transaction Hour and Transaction Amount: -0.02990917723254285\n",
      "Correlation between Transaction Hour and Customer Age: 0.0013585476508331605\n",
      "Correlation between Transaction Hour and Account Age Days: 0.016409186482742057\n",
      "Correlation between Transaction Hour and Quantity: 5.982862944665715e-05\n",
      "Correlation between Transaction Hour and Is Fraudulent: -0.11282128650560384\n",
      "Correlation between Quantity and Transaction Amount: -0.0006516208189054053\n",
      "Correlation between Quantity and Customer Age: 0.0007690644456886574\n",
      "Correlation between Quantity and Account Age Days: 0.0012115842072339957\n",
      "Correlation between Quantity and Transaction Hour: 5.982862944665533e-05\n",
      "Correlation between Quantity and Is Fraudulent: -0.0010269971003749048\n",
      "Correlation between Is Fraudulent and Transaction Amount: 0.27276583085786876\n",
      "Correlation between Is Fraudulent and Customer Age: -0.0011564766228441068\n",
      "Correlation between Is Fraudulent and Account Age Days: -0.13618750448708092\n",
      "Correlation between Is Fraudulent and Transaction Hour: -0.11282128650560386\n",
      "Correlation between Is Fraudulent and Quantity: -0.0010269971003749028\n"
     ]
    }
   ],
   "source": [
    "# Correlation matrix of numerical variables\n",
    "for col1 in numerical_columns:\n",
    "    for col2 in numerical_columns:\n",
    "        if col1 != col2:\n",
    "            corr = fraud_df.stat.corr(col1, col2)\n",
    "            print(f\"Correlation between {col1} and {col2}: {corr}\")"
   ]
  },
  {
   "cell_type": "markdown",
   "metadata": {},
   "source": [
    "I made a heatmap to see how different things like the amount spent and customer age are linked. The heatmap used colors to show blue for less connection and red for more. To my surprise, most of the factors I considered weren't strongly linked to each other. The figures, which indicate the strength of a link, were really close to zero for the majority. However, I noticed an interesting pattern where 'Is Fraudulent' and 'Transaction Amount' had a correlation of about 0.27, suggesting that the transaction amount could potentially be a flag for fraud. Even more, 'Account Age Days' and 'Transaction Hour' showed negative correlations with fraud, with 'Account Age Days' presenting a notably stronger negative link. This could imply that newer accounts or transactions during certain hours may be more susceptible to fraudulent activities. These few, yet significant, hints amongst the other weaker correlations tell me that customer behavior is complex and can't be guessed just by looking at simple links between things like age and how much they spend. So now, instead of expecting clear patterns, I will try out some more complex analysis methods to really understand what's going on in the data. "
   ]
  },
  {
   "cell_type": "markdown",
   "metadata": {},
   "source": [
    "#### Distribution of numerical columns"
   ]
  },
  {
   "cell_type": "code",
   "execution_count": 22,
   "metadata": {},
   "outputs": [],
   "source": [
    "def get_histogram_data(column_name, bins):\n",
    "    return fraud_df.select(column_name).rdd.flatMap(lambda x: x).histogram(bins)\n",
    "\n",
    "# Creating columns and their respective bins for the histograms\n",
    "columns_bins = {\n",
    "    \"Transaction Amount\": 10,\n",
    "    \"Customer Age\": 10,\n",
    "    \"Account Age Days\": 12,  # 12 bins for 12 months\n",
    "    \"Transaction Hour\": 24,  # 24 bins for 24 hours\n",
    "    \"Quantity\": 5\n",
    "}\n",
    "\n",
    "# I will create histograms for each column\n",
    "histograms = {col: get_histogram_data(col, bins) for col, bins in columns_bins.items()}"
   ]
  },
  {
   "cell_type": "code",
   "execution_count": 23,
   "metadata": {},
   "outputs": [
    {
     "data": {
      "image/png": "[encoded data removed]",
      "text/plain": [
       "<Figure size 720x432 with 1 Axes>"
      ]
     },
     "metadata": {
      "needs_background": "light"
     },
     "output_type": "display_data"
    },
    {
     "data": {
      "image/png": "[encoded data removed]",
      "text/plain": [
       "<Figure size 720x432 with 1 Axes>"
      ]
     },
     "metadata": {
      "needs_background": "light"
     },
     "output_type": "display_data"
    },
    {
     "data": {
      "image/png": "[encoded data removed]",
      "text/plain": [
       "<Figure size 720x432 with 1 Axes>"
      ]
     },
     "metadata": {
      "needs_background": "light"
     },
     "output_type": "display_data"
    },
    {
     "data": {
      "image/png": "[encoded data removed]",
      "text/plain": [
       "<Figure size 720x432 with 1 Axes>"
      ]
     },
     "metadata": {
      "needs_background": "light"
     },
     "output_type": "display_data"
    },
    {
     "data": {
      "image/png": "[encoded data removed]",
      "text/plain": [
       "<Figure size 720x432 with 1 Axes>"
      ]
     },
     "metadata": {
      "needs_background": "light"
     },
     "output_type": "display_data"
    }
   ],
   "source": [
    "# I will create a function to plot the histograms\n",
    "def plot_histogram(bins, counts, title, xlabel):\n",
    "    plt.figure(figsize=(10, 6))\n",
    "    plt.hist(bins[:-1], bins=bins, weights=counts, color='skyblue', edgecolor='black')\n",
    "    plt.title(title)\n",
    "    plt.xlabel(xlabel)\n",
    "    plt.ylabel('Frequency')\n",
    "    plt.grid(axis='y', alpha=0.75)\n",
    "    plt.show()\n",
    "\n",
    "# Plot each histogram\n",
    "for col, (bins, counts) in histograms.items():\n",
    "    plot_histogram(bins, counts, f'Histogram of {col}', col)"
   ]
  },
  {
   "cell_type": "markdown",
   "metadata": {},
   "source": [
    "Histogram of Transaction Amount shows a highly right-skewed distribution, meaning most of the transaction amounts are clustered around the lower end of the scale with some very high transactions creating a long tail to the right. This is typical for transaction data as most purchases tend to be for smaller amounts.\n",
    "\n",
    "The distribution of customer age appears to be normally distributed, with a peak somewhere in between the mid-30s and early 40s. This suggests that the majority of the customers are in this age range. \n",
    "\n",
    "The account age days are generally evenly spread out in terms of their ages. It is uniformly distributed. This could imply a steady acquisition of customers over time or reflect a specific period of data collection.\n",
    "\n",
    "The quantity of products per transaction ranges from 1 to 5. It shows a very even distribution across the different quantity values which indicates that customers are equally likely to purchase at any given quantity.\n",
    "\n",
    "The \"Transaction Hour\" histogram shows a similar frequency for each hour, with slight fluctuations. This suggests that transactions happen with similar frequencies throughout the day, which might indicate that there is no particular time-based patterns for fraudulent activity."
   ]
  },
  {
   "cell_type": "markdown",
   "metadata": {},
   "source": [
    "#### Frequencies of Categorical Variables"
   ]
  },
  {
   "cell_type": "code",
   "execution_count": 25,
   "metadata": {},
   "outputs": [
    {
     "name": "stdout",
     "output_type": "stream",
     "text": [
      "+--------------+------+\n",
      "|Payment Method| count|\n",
      "+--------------+------+\n",
      "|    debit card|368277|\n",
      "| bank transfer|368278|\n",
      "|        PayPal|367968|\n",
      "|   credit card|368429|\n",
      "+--------------+------+\n",
      "\n",
      "+----------------+------+\n",
      "|Product Category| count|\n",
      "+----------------+------+\n",
      "| health & beauty|295367|\n",
      "|    toys & games|294266|\n",
      "|     electronics|295294|\n",
      "|        clothing|294319|\n",
      "|   home & garden|293706|\n",
      "+----------------+------+\n",
      "\n",
      "+-----------+------+\n",
      "|Device Used| count|\n",
      "+-----------+------+\n",
      "|    desktop|490271|\n",
      "|     mobile|491743|\n",
      "|     tablet|490938|\n",
      "+-----------+------+\n",
      "\n"
     ]
    }
   ],
   "source": [
    "# I will now create the frequency of Payment Methods\n",
    "fraud_df.groupBy(\"Payment Method\").count().show()\n",
    "\n",
    "# Creating the frequency of Product Categories\n",
    "fraud_df.groupBy(\"Product Category\").count().show()\n",
    "\n",
    "# Creaating the frequency of Product Categories\n",
    "fraud_df.groupBy(\"Device Used\").count().show()"
   ]
  },
  {
   "cell_type": "markdown",
   "metadata": {},
   "source": [
    "The distribution of payment methods is quite balanced with debit cards, bank transfers, PayPal, and credit cards all being used with similar amount of transactions. Product categories are also well represented with health & beauty; toys & games; electronics; clothing; and home & garden categories having a comparable number of transactions. The use of different devices is balanced as well similar number of transactions. "
   ]
  },
  {
   "cell_type": "markdown",
   "metadata": {},
   "source": [
    "#### Checking the distribution of how many samples fall into each class"
   ]
  },
  {
   "cell_type": "code",
   "execution_count": 28,
   "metadata": {},
   "outputs": [
    {
     "name": "stdout",
     "output_type": "stream",
     "text": [
      "+-------------+-------+\n",
      "|Is Fraudulent|  count|\n",
      "+-------------+-------+\n",
      "|            1|  73838|\n",
      "|            0|1399114|\n",
      "+-------------+-------+\n",
      "\n"
     ]
    }
   ],
   "source": [
    "class_distribution = fraud_df.groupBy('Is Fraudulent').count()\n",
    "class_distribution.show()"
   ]
  },
  {
   "cell_type": "code",
   "execution_count": 29,
   "metadata": {},
   "outputs": [
    {
     "name": "stdout",
     "output_type": "stream",
     "text": [
      "Total number of rows in fraud_df: 1472952\n"
     ]
    }
   ],
   "source": [
    "# I want to now get the total number of rows to see the proportion of each class\n",
    "total_rows = fraud_df.count()\n",
    "print(f\"Total number of rows in fraud_df: {total_rows}\")"
   ]
  },
  {
   "cell_type": "markdown",
   "metadata": {},
   "source": [
    "There are 73,838 fraudulent transactions, which represent approximately 5.01% of the total transactions. This indicates a relatively small proportion of fraudulent activities within the dataset. There are 1,399,114 non-fraudulent transactions, making up about 94.99% of the dataset. This shows that the majority of transactions are legitimate.\n",
    "\n",
    "The data is highly imbalanced with a significant skew towards non-fraudulent transactions. This class imbalance is common in fraud detection scenarios because fraudulent activities are generally rare compared to legitimate transactions. Therefore,when training the machine learning model on this data, it's crucial for me to handle this imbalance appropriately to ensure the model doesn't become biased towards predicting non-fraudulent transactions. \n",
    "\n",
    "\n",
    "Technqiues, such as oversampling the minority class and undersampling the majority class is necessary.\n",
    "Evaluation Metrics: Given the imbalance, accuracy might not be a reliable metric alone for evaluating the model performance. Metrics like Precision, Recall, F1-Score, or the Area Under the ROC Curve (AUC-ROC) are more indicative of how well the model is performing, especially in detecting the minority class (fraudulent transactions)."
   ]
  },
  {
   "cell_type": "markdown",
   "metadata": {},
   "source": [
    "# 3. Planned implementation"
   ]
  },
  {
   "cell_type": "markdown",
   "metadata": {},
   "source": [
    "## 3.1 Transforming Features/ Feature Engineering"
   ]
  },
  {
   "cell_type": "markdown",
   "metadata": {},
   "source": [
    "#### Creating Address Match"
   ]
  },
  {
   "cell_type": "markdown",
   "metadata": {},
   "source": [
    "First I will normalise the addresses to standarsise it before any comparison. This reduces any errors for my machine learning and improves the accuracy of my feature 'Address Match'. "
   ]
  },
  {
   "cell_type": "code",
   "execution_count": 68,
   "metadata": {},
   "outputs": [],
   "source": [
    "def normalise_address(address_column):\n",
    "    try:\n",
    "        address_column = lower(address_column)  # This converts to lower case to standardise it\n",
    "        address_column = trim(address_column)  # I will also trim any whitespace\n",
    "\n",
    "        # I will also generate a typical list of abbreviations in addresses to expand\n",
    "        abbreviations = {\n",
    "            \"st\\\\b\": \"street\", \"rd\\\\b\": \"road\", \"ave\\\\b\": \"avenue\", \"blvd\\\\b\": \"boulevard\",\n",
    "            \"dr\\\\b\": \"drive\", \"ctr\\\\b\": \"center\", \"ct\\\\b\": \"court\", \"ln\\\\b\": \"lane\",\n",
    "            \"pl\\\\b\": \"place\", \"ter\\\\b\": \"terrace\", \"ste\\\\b\": \"suite\", \"apt\\\\b\": \"apartment\",\n",
    "            \"dept\\\\b\": \"department\", \"fl\\\\b\": \"floor\", \"mt\\\\b\": \"mount\", \"fwy\\\\b\": \"freeway\",\n",
    "            \"hwy\\\\b\": \"highway\", \"pkwy\\\\b\": \"parkway\", \"sq\\\\b\": \"square\", \"cir\\\\b\": \"circle\"\n",
    "        }\n",
    "\n",
    "        for abbr, full in abbreviations.items():\n",
    "            address_column = regexp_replace(address_column, abbr, full)\n",
    "        \n",
    "        address_column = regexp_replace(address_column, \"[^a-z0-9 ]\", \"\")\n",
    "        return address_column\n",
    "    except Exception as e:\n",
    "        print(f\"Error normalising address: {e}\")\n",
    "        return None"
   ]
  },
  {
   "cell_type": "markdown",
   "metadata": {},
   "source": [
    "Now I will apply the normalisation function and check the consistency:"
   ]
  },
  {
   "cell_type": "code",
   "execution_count": 69,
   "metadata": {},
   "outputs": [
    {
     "name": "stdout",
     "output_type": "stream",
     "text": [
      "+----------------------------------------------------------------+----------------------------------------------------------------+\n",
      "|Shipping Address                                                |Billing Address                                                 |\n",
      "+----------------------------------------------------------------+----------------------------------------------------------------+\n",
      "|828 strong loaf apartment 646new joshua ut 84798                |828 strong loaf apartment 646new joshua ut 84798                |\n",
      "|45344 mary hollowsouth ronaldstad court 86106                   |45344 mary hollowsouth ronaldstad court 86106                   |\n",
      "|95388 robert rue apartment 240millerton ms 22399                |95388 robert rue apartment 240millerton ms 22399                |\n",
      "|917 petersen roads apartment 764new tara ks 13008               |917 petersen roads apartment 764new tara ks 13008               |\n",
      "|47486 bradley village apartment 527new annachesterrace tn 57819 |47486 bradley village apartment 527new annachesterrace tn 57819 |\n",
      "|816 velasquez extensions suite 008matthewfurt nj 77961          |816 velasquez extensions suite 008matthewfurt nj 77961          |\n",
      "|3968 susan junction apartment 243leslieside md 70127            |3968 susan junction apartment 243leslieside md 70127            |\n",
      "|0637 roberts ports apartment 951lake shannonton floor 12612     |0637 roberts ports apartment 951lake shannonton floor 12612     |\n",
      "|461 johnson centers suite 721christopherchesterrace ut 02547    |461 johnson centers suite 721christopherchesterrace ut 02547    |\n",
      "|765 zimmerman commonjohnborough ky 71952                        |765 zimmerman commonjohnborough ky 71952                        |\n",
      "|7766 jones squaresjesustown nd 27174                            |01748 jones valley apartment 428bethanyberg az 97652            |\n",
      "|1475 anderson inlet apartment 900garciafurt al 24302            |1475 anderson inlet apartment 900garciafurt al 24302            |\n",
      "|1147 day canyonnew darrell id 59429                             |1147 day canyonnew darrell id 59429                             |\n",
      "|278 robert freewaylake phillip wy 01385                         |278 robert freewaylake phillip wy 01385                         |\n",
      "|0080 emily mountains apartment 789marshfurt id 00802            |0080 emily mountains apartment 789marshfurt id 00802            |\n",
      "|psc 2117 box 9250apo aa 59298                                   |psc 2117 box 9250apo aa 59298                                   |\n",
      "|13763 gonzalez traceeastreet ambershire ga 02309                |13763 gonzalez traceeastreet ambershire ga 02309                |\n",
      "|3563 coleman mall apartment 718port luke ky 48156               |3563 coleman mall apartment 718port luke ky 48156               |\n",
      "|1382 terri gardensnorth bobby mo 89544                          |1382 terri gardensnorth bobby mo 89544                          |\n",
      "|9567 perez trailstevensshire pa 67916                           |9567 perez trailstevensshire pa 67916                           |\n",
      "|35730 hawkins points apartment 182donaldmouth pa 50862          |35730 hawkins points apartment 182donaldmouth pa 50862          |\n",
      "|1563 thomas skyway suite 849chloeton mp 72412                   |1563 thomas skyway suite 849chloeton mp 72412                   |\n",
      "|1093 barrett grovehoodmouth wy 19777                            |1093 barrett grovehoodmouth wy 19777                            |\n",
      "|2432 wright viaducourt suite 835eastreet eduardoport al 14720   |2432 wright viaducourt suite 835eastreet eduardoport al 14720   |\n",
      "|42514 fletcher route suite 026johnsonview vt 30228              |42514 fletcher route suite 026johnsonview vt 30228              |\n",
      "|psc 7294 box 6406apo ap 96989                                   |psc 7294 box 6406apo ap 96989                                   |\n",
      "|681 santana manors apartment 742south tony sd 79099             |681 santana manors apartment 742south tony sd 79099             |\n",
      "|6664 morris drive suite 496new benjaminbury ne 97729            |6664 morris drive suite 496new benjaminbury ne 97729            |\n",
      "|87535 aaron isle suite 995waltersfurt mh 51894                  |87535 aaron isle suite 995waltersfurt mh 51894                  |\n",
      "|0372 carterrace capenew kevinshire nm 50818                     |0372 carterrace capenew kevinshire nm 50818                     |\n",
      "|7378 crystal manor apartment 763lake william tx 94889           |079 christopher neckeastreet timothy nd 26491                   |\n",
      "|8441 ochoa motorway apartment 733new douglastown mn 95575       |8441 ochoa motorway apartment 733new douglastown mn 95575       |\n",
      "|4134 yoder falls apartment 489new eric wa 61224                 |4134 yoder falls apartment 489new eric wa 61224                 |\n",
      "|4247 riley missionblankenshiptown mn 39201                      |4247 riley missionblankenshiptown mn 39201                      |\n",
      "|unit 3975 box 6114dpo ae 23717                                  |unit 3975 box 6114dpo ae 23717                                  |\n",
      "|unit 1023 box 4292dpo ae 45951                                  |unit 1023 box 4292dpo ae 45951                                  |\n",
      "|764 wright holloweastreet allisonburgh ma 99539                 |764 wright holloweastreet allisonburgh ma 99539                 |\n",
      "|7652 howaroad estatesparsonsfurt in 41920                       |7652 howaroad estatesparsonsfurt in 41920                       |\n",
      "|862 julie fall suite 539rossville nd 76903                      |862 julie fall suite 539rossville nd 76903                      |\n",
      "|43196 marquez mountains apartment 482port nicholasmouth al 99774|43196 marquez mountains apartment 482port nicholasmouth al 99774|\n",
      "|49096 rogers oval suite 332north timothy al 35139               |49096 rogers oval suite 332north timothy al 35139               |\n",
      "|8641 mason station apartment 432lake rachel vi 31946            |8641 mason station apartment 432lake rachel vi 31946            |\n",
      "|1735 chavez radial suite 264nguyenport in 94535                 |1735 chavez radial suite 264nguyenport in 94535                 |\n",
      "|4132 amy portnew patriciaport vi 55629                          |4132 amy portnew patriciaport vi 55629                          |\n",
      "|08365 emily light suite 898north samuel vi 04268                |08365 emily light suite 898north samuel vi 04268                |\n",
      "|6164 scott wayswestreet priscillaville mp 86205                 |6164 scott wayswestreet priscillaville mp 86205                 |\n",
      "|7786 reed cornerpatricialand vt 24445                           |7786 reed cornerpatricialand vt 24445                           |\n",
      "|4788 ashley islandsmclaughlinport me 25865                      |4788 ashley islandsmclaughlinport me 25865                      |\n",
      "|7440 jones stravenuemargaretport ms 56774                       |7440 jones stravenuemargaretport ms 56774                       |\n",
      "|837 pierce wells suite 276lauraborough fm 54407                 |837 pierce wells suite 276lauraborough fm 54407                 |\n",
      "|200 clark curve apartment 917south stevenville fm 16428         |200 clark curve apartment 917south stevenville fm 16428         |\n",
      "|39458 brock roadsnew shelbyville il 61426                       |39458 brock roadsnew shelbyville il 61426                       |\n",
      "|5690 john pines suite 449sharpmouth nd 57471                    |5690 john pines suite 449sharpmouth nd 57471                    |\n",
      "|219 lee islandwestreet robert wy 47934                          |25496 kathryn stationport ricardo ms 28198                      |\n",
      "|unit 7879 box 6873dpo ae 67144                                  |unit 7879 box 6873dpo ae 67144                                  |\n",
      "|55342 bishop streamrobertmouth ky 20789                         |55342 bishop streamrobertmouth ky 20789                         |\n",
      "|728 nicole extension apartment 590eastreet nicolestad ut 24081  |728 nicole extension apartment 590eastreet nicolestad ut 24081  |\n",
      "|79332 barker loafwestreet amybury floor 01038                   |79332 barker loafwestreet amybury floor 01038                   |\n",
      "|25030 orozco groves apartment 049timothyside nv 10892           |25030 orozco groves apartment 049timothyside nv 10892           |\n",
      "|2037 julia shoals apartment 990lake robert de 87469             |2037 julia shoals apartment 990lake robert de 87469             |\n",
      "|202 amber dividenorth sheila tn 78871                           |202 amber dividenorth sheila tn 78871                           |\n",
      "|0246 ashley hollow apartment 304new paulside ga 95872           |0246 ashley hollow apartment 304new paulside ga 95872           |\n",
      "|1812 harrison burgport jerry or 95870                           |1812 harrison burgport jerry or 95870                           |\n",
      "|8639 martin islandseastreet tamaraview ut 23649                 |8639 martin islandseastreet tamaraview ut 23649                 |\n",
      "|5643 english crescentamymouth ny 43283                          |5643 english crescentamymouth ny 43283                          |\n",
      "|305 evelyn highway apartment 811higginsborough nd 78613         |305 evelyn highway apartment 811higginsborough nd 78613         |\n",
      "|496 ashley island apartment 204lake tami tn 89988               |496 ashley island apartment 204lake tami tn 89988               |\n",
      "|3838 kevin plainsnicoleburgh pr 56582                           |3838 kevin plainsnicoleburgh pr 56582                           |\n",
      "|55039 pacheco views suite 579new karashire mh 69038             |55039 pacheco views suite 579new karashire mh 69038             |\n",
      "|66953 matthews spursport ann fm 85171                           |66953 matthews spursport ann fm 85171                           |\n",
      "|259 mark restreetvaldezchesterrace nv 58850                     |259 mark restreetvaldezchesterrace nv 58850                     |\n",
      "|9034 chloe forgeshansonshire il 89510                           |9034 chloe forgeshansonshire il 89510                           |\n",
      "|9808 crystal creekwestreet william nv 02196                     |9808 crystal creekwestreet william nv 02196                     |\n",
      "|338 fields neck suite 572hornebury ga 33330                     |338 fields neck suite 572hornebury ga 33330                     |\n",
      "|0205 patterson passjoshuafurt sd 13748                          |0205 patterson passjoshuafurt sd 13748                          |\n",
      "|6809 jackson landlake williamtown fm 95473                      |6809 jackson landlake williamtown fm 95473                      |\n",
      "|42488 kara ridge suite 839new jameshaven ny 60597               |42488 kara ridge suite 839new jameshaven ny 60597               |\n",
      "|41047 matthew ridges suite 695westreet christina az 33082       |41047 matthew ridges suite 695westreet christina az 33082       |\n",
      "|8871 page summitnew toddton ks 55764                            |8871 page summitnew toddton ks 55764                            |\n",
      "|psc 5997 box 1867apo ap 41683                                   |psc 5997 box 1867apo ap 41683                                   |\n",
      "|53581 sweeney garden suite 769lake james dc 70318               |53581 sweeney garden suite 769lake james dc 70318               |\n",
      "|uss walkerfpo ap 64850                                          |uss walkerfpo ap 64850                                          |\n",
      "|3451 joseph cornersnorth jaredhaven ut 82984                    |uss bakerfpo ae 19988                                           |\n",
      "|102 boyd bypasslake corey mh 87332                              |102 boyd bypasslake corey mh 87332                              |\n",
      "|58072 thomas drivewestreet jamesland tn 50891                   |8913 long mountains apartment 308north justinhaven tn 13578     |\n",
      "|4518 gentry radial suite 138south lisa ar 18146                 |4518 gentry radial suite 138south lisa ar 18146                 |\n",
      "|606 anderson branchchristensenfurt al 84170                     |606 anderson branchchristensenfurt al 84170                     |\n",
      "|366 laura isle suite 490emmafort ms 55205                       |366 laura isle suite 490emmafort ms 55205                       |\n",
      "|36391 amy villagenew brianchesterrace in 87571                  |36391 amy villagenew brianchesterrace in 87571                  |\n",
      "|36769 marcus passrodriguezhaven mh 21932                        |36769 marcus passrodriguezhaven mh 21932                        |\n",
      "|572 lori squareskennethton co 10410                             |5099 newman restreetchavezchesterrace va 25552                  |\n",
      "|6701 ethan cliff suite 485carlosfurt ne 64102                   |6701 ethan cliff suite 485carlosfurt ne 64102                   |\n",
      "|702 ross bypass suite 096westreet garrett nd 76061              |702 ross bypass suite 096westreet garrett nd 76061              |\n",
      "|583 gregory view suite 525marcfurt pa 92630                     |583 gregory view suite 525marcfurt pa 92630                     |\n",
      "|26301 chavez landing apartment 844eastreet mark ks 28115        |26301 chavez landing apartment 844eastreet mark ks 28115        |\n",
      "|228 alejandra manorstonyfurt sd 59873                           |228 alejandra manorstonyfurt sd 59873                           |\n",
      "|467 paul plainsnew susanfurt az 93924                           |467 paul plainsnew susanfurt az 93924                           |\n",
      "|890 joseph corners suite 827port william al 44207               |890 joseph corners suite 827port william al 44207               |\n",
      "|1846 rodgers valleynicoleton az 59146                           |1846 rodgers valleynicoleton az 59146                           |\n",
      "|7268 kevin ports apartment 265new christinebury il 55825        |7268 kevin ports apartment 265new christinebury il 55825        |\n",
      "+----------------------------------------------------------------+----------------------------------------------------------------+\n",
      "only showing top 100 rows\n",
      "\n"
     ]
    }
   ],
   "source": [
    "fraud_df = fraud_df.withColumn(\"Shipping Address\", normalise_address(col(\"Shipping Address\")))\n",
    "fraud_df = fraud_df.withColumn(\"Billing Address\", normalise_address(col(\"Billing Address\")))\n",
    "\n",
    "# I would like to briefly check a sample of addresses to manually inspect for consistency\n",
    "fraud_df.select(\"Shipping Address\", \"Billing Address\").distinct().show(100, truncate=False)"
   ]
  },
  {
   "cell_type": "code",
   "execution_count": 65,
   "metadata": {
    "scrolled": false
   },
   "outputs": [
    {
     "name": "stdout",
     "output_type": "stream",
     "text": [
      "+----------------------------------------------------+----------------------------------------------------+-------------+\n",
      "|Shipping Address                                    |Billing Address                                     |Address Match|\n",
      "+----------------------------------------------------+----------------------------------------------------+-------------+\n",
      "|unit 8934 box 0058\n",
      "dpo aa 05437                     |unit 8934 box 0058\n",
      "dpo aa 05437                     |Match        |\n",
      "|634 may keys\n",
      "port cherylview nv 75063               |634 may keys\n",
      "port cherylview nv 75063               |Match        |\n",
      "|16282 dana falls suite 790\n",
      "rothhaven il 15564       |16282 dana falls suite 790\n",
      "rothhaven il 15564       |Match        |\n",
      "|828 strong loaf apt 646\n",
      "new joshua ut 84798         |828 strong loaf apt 646\n",
      "new joshua ut 84798         |Match        |\n",
      "|29799 jason hills apt 439\n",
      "west richardtown oh 36093 |29799 jason hills apt 439\n",
      "west richardtown oh 36093 |Match        |\n",
      "|5699 brittany villages suite 903\n",
      "lake tim md 46274  |120 kristi dale\n",
      "port meganshire gu 03060            |No Match     |\n",
      "|727 gibson islands apt 279\n",
      "new davidbury me 43104   |727 gibson islands apt 279\n",
      "new davidbury me 43104   |Match        |\n",
      "|3914 davis union\n",
      "brownchester in 07744              |3914 davis union\n",
      "brownchester in 07744              |Match        |\n",
      "|47893 maldonado stream suite 443\n",
      "brownshire mo 48487|47893 maldonado stream suite 443\n",
      "brownshire mo 48487|Match        |\n",
      "|2334 briana centers suite 576\n",
      "archershire nm 45210  |2334 briana centers suite 576\n",
      "archershire nm 45210  |Match        |\n",
      "|unit 7360 box 5180\n",
      "dpo ap 84328                     |55423 henry haven\n",
      "wesleychester wi 59138            |No Match     |\n",
      "|3684 morris inlet suite 155\n",
      "chandlerville nj 01086  |3684 morris inlet suite 155\n",
      "chandlerville nj 01086  |Match        |\n",
      "|4197 lewis way\n",
      "mariachester nc 04968                |075 monroe court\n",
      "davismouth wa 67522                |No Match     |\n",
      "|298 taylor canyon\n",
      "south megan ga 73219              |298 taylor canyon\n",
      "south megan ga 73219              |Match        |\n",
      "|32232 omar glens\n",
      "kleintown ok 77994                 |32232 omar glens\n",
      "kleintown ok 77994                 |Match        |\n",
      "|unit 4478 box 3826\n",
      "dpo aa 96936                     |unit 4478 box 3826\n",
      "dpo aa 96936                     |Match        |\n",
      "|1117 braun courts suite 910\n",
      "west johnmouth wv 07413 |1117 braun courts suite 910\n",
      "west johnmouth wv 07413 |Match        |\n",
      "|1228 torres squares suite 099\n",
      "cookville id 69547    |1228 torres squares suite 099\n",
      "cookville id 69547    |Match        |\n",
      "|12872 kevin creek\n",
      "thompsonburgh ky 81553            |12872 kevin creek\n",
      "thompsonburgh ky 81553            |Match        |\n",
      "|3496 jason ports\n",
      "new amanda md 97636                |3496 jason ports\n",
      "new amanda md 97636                |Match        |\n",
      "+----------------------------------------------------+----------------------------------------------------+-------------+\n",
      "only showing top 20 rows\n",
      "\n"
     ]
    }
   ],
   "source": [
    "# I will create a new column 'Address Match' to check if the Shipping Address matches the Billing Address\n",
    "fraud_df = fraud_df.withColumn(\"Address Match\", when(col(\"Shipping Address\") == col(\"Billing Address\"), \"Match\").otherwise(\"No Match\"))\n",
    "\n",
    "# I will now check the DataFrame\n",
    "fraud_df.select(\"Shipping Address\", \"Billing Address\", \"Address Match\").show(truncate=False)\n"
   ]
  },
  {
   "cell_type": "markdown",
   "metadata": {},
   "source": [
    "This column indicates whether the shipping address matches the billing address for each transaction, which can be a useful feature in detecting potential fraud. Transactions with mismatched addresses could be an indication of fraudulent activity.\n",
    "\n",
    "Most transactions seem to have matching addresses, with a few exceptions. Where \"Address Match\" is \"No Match\" is particularly interesting for fraud detection purposes. This is a common indicator of fraud analysis to look for discrepancies between billing and shipping information, as it can sometimes suggest that the purchase is not legitimate. According to the research [1], fraudsters may use different addresses to avoid raising suspicion and businesses can reduce this risk by flagging discrepancies between billing and shipping addresses through using address verification systems \n",
    "\n",
    "This \"Address Match\" feature I created along with other engineered features will be helpful in training my machine learning models. "
   ]
  },
  {
   "cell_type": "markdown",
   "metadata": {},
   "source": [
    "#### Creating an interaction feature between 'Transaction Amount' and 'Customer Age'"
   ]
  },
  {
   "cell_type": "markdown",
   "metadata": {},
   "source": [
    "The 'Amount_Age_Interaction' feature investigates if purchasing behavior varies by age, potentially flagging fraud. For younger customers', large transactions may signal fraud, as they typically spend much less. Similarly, unusually large purchases by older customers could indicate exploitation. This feature will help my models detect any anomalies against age based spending trends. It allows for customer segmentation for identifying demographic-specific patterns of fraud."
   ]
  },
  {
   "cell_type": "code",
   "execution_count": 35,
   "metadata": {},
   "outputs": [
    {
     "name": "stdout",
     "output_type": "stream",
     "text": [
      "+-------+----------------------+\n",
      "|summary|Amount_Age_Interaction|\n",
      "+-------+----------------------+\n",
      "|  count|               1472952|\n",
      "|   mean|     7829.937124265001|\n",
      "| stddev|     9985.983134476417|\n",
      "|    min|                 10.42|\n",
      "|    25%|    2180.2000000000003|\n",
      "|    50%|     4958.429999999999|\n",
      "|    75%|              10050.33|\n",
      "|    max|              539508.6|\n",
      "+-------+----------------------+\n",
      "\n"
     ]
    }
   ],
   "source": [
    "# Creating an interaction feature between 'Transaction Amount' and 'Customer Age'\n",
    "fraud_df = fraud_df.withColumn('Amount_Age_Interaction', col('Transaction Amount') * col('Customer Age'))\n",
    "\n",
    "# Viewing the newly created feature\n",
    "fraud_df.select('Amount_Age_Interaction').summary().show()"
   ]
  },
  {
   "cell_type": "markdown",
   "metadata": {},
   "source": [
    "The summary statistics suggest that there's a broad range of values in this interaction feature, with the maximum being significantly higher than the mean, which is indicative of a right-skewed distribution. Therefore, the transactional data suggests that younger customers may tend to make smaller transactions and older customers may make larger ones."
   ]
  },
  {
   "cell_type": "markdown",
   "metadata": {},
   "source": [
    "#### Creating an interaction feature between 'Transaction Hour' and 'Quantity'"
   ]
  },
  {
   "cell_type": "markdown",
   "metadata": {},
   "source": [
    "I would like to test my hypothesis. I may expect larger quantities to be ordered during business hours rather than in the middle of the night.\n",
    "\n",
    "Therefore, I will also create a feature that flags these unusual combinations. "
   ]
  },
  {
   "cell_type": "code",
   "execution_count": 38,
   "metadata": {},
   "outputs": [
    {
     "name": "stdout",
     "output_type": "stream",
     "text": [
      "Median (50th percentile) of Quantity: 3.0\n",
      "75th percentile of Quantity: 4.0\n",
      "90th percentile of Quantity: 5.0\n"
     ]
    }
   ],
   "source": [
    "# I will calculate and display the statistics\n",
    "median = fraud_df.stat.approxQuantile(\"Quantity\", [0.5], 0.01)\n",
    "percentile_75 = fraud_df.stat.approxQuantile(\"Quantity\", [0.75], 0.01)\n",
    "percentile_90 = fraud_df.stat.approxQuantile(\"Quantity\", [0.90], 0.01)\n",
    "\n",
    "print(f\"Median (50th percentile) of Quantity: {median[0]}\")\n",
    "print(f\"75th percentile of Quantity: {percentile_75[0]}\")\n",
    "print(f\"90th percentile of Quantity: {percentile_90[0]}\")\n"
   ]
  },
  {
   "cell_type": "code",
   "execution_count": 41,
   "metadata": {
    "scrolled": false
   },
   "outputs": [
    {
     "name": "stdout",
     "output_type": "stream",
     "text": [
      "+----------------+--------+-------------+\n",
      "|Transaction Hour|Quantity|Unusual Combo|\n",
      "+----------------+--------+-------------+\n",
      "|               5|       1|       Normal|\n",
      "|               8|       2|       Normal|\n",
      "|               3|       2|       Normal|\n",
      "|              20|       5|      Unusual|\n",
      "|               5|       2|       Normal|\n",
      "|              10|       2|       Normal|\n",
      "|              19|       2|       Normal|\n",
      "|              13|       4|       Normal|\n",
      "|              19|       4|       Normal|\n",
      "|              21|       4|       Normal|\n",
      "|              22|       5|      Unusual|\n",
      "|              21|       3|       Normal|\n",
      "|              11|       5|      Unusual|\n",
      "|              15|       4|       Normal|\n",
      "|              13|       5|      Unusual|\n",
      "|              10|       1|       Normal|\n",
      "|               8|       4|       Normal|\n",
      "|              14|       1|       Normal|\n",
      "|              22|       3|       Normal|\n",
      "|              10|       2|       Normal|\n",
      "+----------------+--------+-------------+\n",
      "only showing top 20 rows\n",
      "\n"
     ]
    }
   ],
   "source": [
    "# User Defined Function (UDF) for checking unusual combinations\n",
    "def check_unusual_combination(hour, quantity):\n",
    "    if (hour < 6 or hour >= 20) and quantity > threshold_quantity:\n",
    "        return 'Unusual'\n",
    "    else:\n",
    "        return 'Normal'\n",
    "\n",
    "# Registering the UDF\n",
    "check_unusual_combination_udf = udf(check_unusual_combination, StringType())\n",
    "\n",
    "# I will define a threshold for four transactions as I consider this to be high in quantity\n",
    "threshold_quantity = 4  \n",
    "\n",
    "# Create a new column 'Unusual Combo' that uses the UDF to check for unusual combinations of Transaction Hour and Quantity\n",
    "fraud_df = fraud_df.withColumn(\"Unusual Combo\", check_unusual_combination_udf(col(\"Transaction Hour\"), col(\"Quantity\")))\n",
    "\n",
    "# I want to see some of the data to verify the new column\n",
    "fraud_df.select(\"Transaction Hour\", \"Quantity\", \"Unusual Combo\").show()\n"
   ]
  },
  {
   "cell_type": "markdown",
   "metadata": {},
   "source": [
    "I created a feature for the data to show the 'Transaction Hour', 'Quantity' of items purchased in the transaction, and a column 'Unusual Combo' to classify the combination of 'Transaction Hour' and 'Quantity' as either \"Normal\" or \"Unusual\" based on the criteria I established. The transactions I considered as \"Unusual\" were the ones that occur outside of typical business hours (before 6 AM or after 8 PM) and have a quantity that equals or exceeds 4."
   ]
  },
  {
   "cell_type": "markdown",
   "metadata": {},
   "source": [
    "#### One-hot encoding categorical values"
   ]
  },
  {
   "cell_type": "code",
   "execution_count": 73,
   "metadata": {
    "scrolled": true
   },
   "outputs": [
    {
     "name": "stdout",
     "output_type": "stream",
     "text": [
      "-RECORD 0--------------------------------------\n",
      " Transaction Amount     | 58.09                \n",
      " Payment Method         | bank transfer        \n",
      " Product Category       | electronics          \n",
      " Quantity               | 1                    \n",
      " Customer Age           | 17.0                 \n",
      " Device Used            | tablet               \n",
      " Shipping Address       | unit 8934 box 005... \n",
      " Billing Address        | unit 8934 box 005... \n",
      " Is Fraudulent          | 0                    \n",
      " Account Age Days       | 30                   \n",
      " Transaction Hour       | 5                    \n",
      " Address Match          | Match                \n",
      " Amount_Age_Interaction | 987.5300000000001    \n",
      " Unusual Combo          | Normal               \n",
      " Payment Method_Index   | 1.0                  \n",
      " Product Category_Index | 1.0                  \n",
      " Device Used_Index      | 1.0                  \n",
      " Address Match_Index    | 0.0                  \n",
      " Payment Method_Vec     | (3,[1],[1.0])        \n",
      " Product Category_Vec   | (4,[1],[1.0])        \n",
      " Device Used_Vec        | (2,[1],[1.0])        \n",
      " Address Match_Vec      | (1,[0],[1.0])        \n",
      "only showing top 1 row\n",
      "\n"
     ]
    }
   ],
   "source": [
    "# I will now list the categorical columns that I want to be encoded\n",
    "categorical_columns = [\"Payment Method\", \"Product Category\", \"Device Used\", \"Address Match\"] \n",
    "\n",
    "# I will now convert string values into categorical indices\n",
    "indexers = [StringIndexer(inputCol=c, outputCol=f\"{c}_Index\") for c in categorical_columns]\n",
    "\n",
    "# Next I will convert categorical indices to one-hot encoded vectors\n",
    "encoders = [OneHotEncoder(inputCol=f\"{c}_Index\", outputCol=f\"{c}_Vec\") for c in categorical_columns]\n",
    "\n",
    "# I will now assemble all processes in a Pipeline\n",
    "pipeline = Pipeline(stages=indexers + encoders)\n",
    "fraud_df_transformed = pipeline.fit(fraud_df).transform(fraud_df)\n",
    "\n",
    "# Now I want to show the transformed DataFrame for a quick look\n",
    "fraud_df_transformed.show(n=1, vertical=True)"
   ]
  },
  {
   "cell_type": "markdown",
   "metadata": {},
   "source": [
    "#### Scaling numerical values"
   ]
  },
  {
   "cell_type": "code",
   "execution_count": 80,
   "metadata": {
    "scrolled": true
   },
   "outputs": [
    {
     "name": "stdout",
     "output_type": "stream",
     "text": [
      "-RECORD 0--------------------------------------\n",
      " Transaction Amount     | 58.09                \n",
      " Payment Method         | bank transfer        \n",
      " Product Category       | electronics          \n",
      " Quantity               | 1                    \n",
      " Customer Age           | 17.0                 \n",
      " Device Used            | tablet               \n",
      " Shipping Address       | unit 8934 box 005... \n",
      " Billing Address        | unit 8934 box 005... \n",
      " Is Fraudulent          | 0                    \n",
      " Account Age Days       | 30                   \n",
      " Transaction Hour       | 5                    \n",
      " Address Match          | Match                \n",
      " Amount_Age_Interaction | 987.5300000000001    \n",
      " Unusual Combo          | Normal               \n",
      " Payment Method_Index   | 1.0                  \n",
      " Product Category_Index | 1.0                  \n",
      " Device Used_Index      | 1.0                  \n",
      " Address Match_Index    | 0.0                  \n",
      " Payment Method_Vec     | (3,[1],[1.0])        \n",
      " Product Category_Vec   | (4,[1],[1.0])        \n",
      " Device Used_Vec        | (2,[1],[1.0])        \n",
      " Address Match_Vec      | (1,[0],[1.0])        \n",
      " NumFeatures            | [58.09,17.0,30.0,... \n",
      " ScaledNumFeatures      | [0.00378907558059... \n",
      "only showing top 1 row\n",
      "\n"
     ]
    }
   ],
   "source": [
    "#I will now add Amount_Age_Interaction and redefine the numerical columns\n",
    "numerical_columns = [\"Transaction Amount\", \"Customer Age\", \"Account Age Days\", \"Transaction Hour\", \"Amount_Age_Interaction\"]\n",
    "\n",
    "assembler = VectorAssembler(inputCols=numerical_columns, outputCol=\"NumFeatures\")\n",
    "fraud_df_transformed = assembler.transform(fraud_df_transformed)\n",
    "\n",
    "# I will now apply MinMaxScaler\n",
    "scaler = MinMaxScaler(inputCol=\"NumFeatures\", outputCol=\"ScaledNumFeatures\")\n",
    "scalerModel = scaler.fit(fraud_df_transformed)\n",
    "fraud_df_transformed = scalerModel.transform(fraud_df_transformed)\n",
    "# I want to show the transformed DataFrame again to have a quick look\n",
    "fraud_df_transformed.show(n=1, vertical=True)"
   ]
  },
  {
   "cell_type": "markdown",
   "metadata": {},
   "source": [
    "#### Handline Imbalances to prevent overfitting and biased model evaluation"
   ]
  },
  {
   "cell_type": "markdown",
   "metadata": {},
   "source": [
    "I would have used SMOTE, using third-party libraries; however, it is not supported by PySpark. Therefore, for meeting the coursework requirements, I will perform a combination of over and under-sampling in PySpark, using the 'sampleBy' method for undersampling and custom function for oversampling. The goal is to randomly select instances from the majority class 'Non Fraudulent' (0) and replicate instances from the minority class 'Fraudulent' (1). "
   ]
  },
  {
   "cell_type": "markdown",
   "metadata": {},
   "source": [
    "This was calculated earlier, but it is a reminder of the distribution:"
   ]
  },
  {
   "cell_type": "code",
   "execution_count": 48,
   "metadata": {
    "scrolled": true
   },
   "outputs": [
    {
     "name": "stdout",
     "output_type": "stream",
     "text": [
      "+-------------+-------+\n",
      "|Is Fraudulent|  count|\n",
      "+-------------+-------+\n",
      "|            1|  73838|\n",
      "|            0|1399114|\n",
      "+-------------+-------+\n",
      "\n"
     ]
    }
   ],
   "source": [
    "# Count instances by class. \n",
    "class_distribution = fraud_df.groupBy('Is Fraudulent').count()\n",
    "class_distribution.show()"
   ]
  },
  {
   "cell_type": "markdown",
   "metadata": {},
   "source": [
    "As mentioned earlier, the imbalance ratio is significantly high, approximately 1:19 (minority to majority). Given the data is skewed, I will use a resampling strategy to achieve a more balanced distribution. Models trained on highly imbalanced datasets tend to be biased towards the majority class, often ignoring the minority class. Resampling strategies help in balancing this bias, making models more sensitive to the minority class, which improves the models and is crucial in fraud detection[2]. Therefore, I will start with the factor 2 and evaluate the model performance through metrics, such as cross-validation and F1 metrics.\n",
    "\n",
    "If I oversample the minority class by a factor of 2, I would have 78,838 * 2 = 147,676 examples of the minority class.\n",
    "\n",
    "If I undersample the majority class by a factor of 2, I would reduce it to about 295,352 examples as I would double the new minority class. This new ratio leads to a more balanced but slightly skewed dataset, reducing the imbalance from 1:19 to nearly 1:2. This reduces the risk of losing valuable information through extreme undersampling of the majority class and helps prevent potential overfitting that could occur from excessive oversampling of the minority class[2]."
   ]
  },
  {
   "cell_type": "markdown",
   "metadata": {},
   "source": [
    "Calculating the sampling fractions for each class: "
   ]
  },
  {
   "cell_type": "code",
   "execution_count": 55,
   "metadata": {},
   "outputs": [],
   "source": [
    "# I will use the the outputs from above \n",
    "count_minority = 73838   # This was for the fraudulent transactions\n",
    "count_majority = 1399114  # This was for the Non-fraudulent transactions\n",
    "\n",
    "# I will now define the fraction to oversample the minority class by doubling it.\n",
    "minority_size = count_minority * 2  \n",
    "\n",
    "# I will now calculate the fractions needed for sampling\n",
    "fraction_minority = minority_size / count_minority  \n",
    "fraction_majority = (minority_size * 2) / count_majority  # This gets a 2:1 ratio of majority to new minority size\n"
   ]
  },
  {
   "cell_type": "markdown",
   "metadata": {},
   "source": [
    "I will now under-sample the majority and over-sample the minority class:"
   ]
  },
  {
   "cell_type": "code",
   "execution_count": 56,
   "metadata": {},
   "outputs": [
    {
     "name": "stdout",
     "output_type": "stream",
     "text": [
      "+-------------+------+\n",
      "|Is Fraudulent| count|\n",
      "+-------------+------+\n",
      "|            1|147827|\n",
      "|            0|295321|\n",
      "+-------------+------+\n",
      "\n"
     ]
    }
   ],
   "source": [
    "# Over-sample the minority class\n",
    "minority_df = fraud_df.filter(col(\"Is Fraudulent\") == 1)\n",
    "minority_df_oversampled = minority_df.sample(withReplacement=True, fraction=fraction_minority, seed=42)\n",
    "\n",
    "# Under-sample the majority class\n",
    "majority_df = fraud_df.filter(col(\"Is Fraudulent\") == 0)\n",
    "majority_df_undersampled = majority_df.sample(withReplacement=False, fraction=fraction_majority, seed=42)\n",
    "\n",
    "# I will now combine it back together to make a balanced dataframe ready for the machine learning\n",
    "balanced_df = majority_df_undersampled.unionAll(minority_df_oversampled)\n",
    "\n",
    "# Now i will view the new distribution\n",
    "balanced_df.groupBy(\"Is Fraudulent\").count().show()"
   ]
  },
  {
   "cell_type": "markdown",
   "metadata": {},
   "source": [
    "#### Splitting the Data"
   ]
  },
  {
   "cell_type": "code",
   "execution_count": 81,
   "metadata": {},
   "outputs": [],
   "source": [
    "# Now I will split the data into training and test sets for training and testing in my machine learning process\n",
    "train_df, test_df = balanced_df.randomSplit([0.7, 0.3], seed=42)"
   ]
  },
  {
   "cell_type": "markdown",
   "metadata": {},
   "source": [
    "#### Assembling All Features into a Single Vector"
   ]
  },
  {
   "cell_type": "code",
   "execution_count": 82,
   "metadata": {},
   "outputs": [],
   "source": [
    "# I will use the 'categorical_columns' and 'numerical_columns' I defined previously\n",
    "\n",
    "# Again I will create indexers for the categorical columns\n",
    "indexers = [StringIndexer(inputCol=c, outputCol=f\"{c}_Index\") for c in categorical_columns]\n",
    "\n",
    "# I will now create encoders for the categorical features\n",
    "encoders = [OneHotEncoder(inputCol=f\"{c}_Index\", outputCol=f\"{c}_Vec\") for c in categorical_columns]\n",
    "\n",
    "# Now I will create the Assembler for numerical features before scaling\n",
    "numericalAssembler = VectorAssembler(inputCols=numerical_columns, outputCol=\"NumFeatures\")\n",
    "\n",
    "# Now I will scale for numerical features\n",
    "scaler = MinMaxScaler(inputCol=\"NumFeatures\", outputCol=\"ScaledNumFeatures\")\n",
    "\n",
    "# Next I will combine all features together, include the new ScaledNumFeatures\n",
    "finalAssembler = VectorAssembler(\n",
    "    inputCols=[f\"{c}_Vec\" for c in categorical_columns] + [\"ScaledNumFeatures\"],\n",
    "    outputCol=\"features\"\n",
    ")\n",
    "\n",
    "# Finally I will build the pipeline ready for machine learning\n",
    "pipeline = Pipeline(stages=indexers + encoders + [numericalAssembler, scaler, finalAssembler])\n",
    "\n",
    "# Applying the pipeline to the train and test data.\n",
    "pipeline_model = pipeline.fit(train_df)\n",
    "train_final = pipeline_model.transform(train_df)\n",
    "test_final = pipeline_model.transform(test_df)"
   ]
  },
  {
   "cell_type": "markdown",
   "metadata": {},
   "source": [
    "Double checking the train_final:"
   ]
  },
  {
   "cell_type": "code",
   "execution_count": 84,
   "metadata": {},
   "outputs": [
    {
     "name": "stdout",
     "output_type": "stream",
     "text": [
      "root\n",
      " |-- Transaction Amount: double (nullable = true)\n",
      " |-- Payment Method: string (nullable = true)\n",
      " |-- Product Category: string (nullable = true)\n",
      " |-- Quantity: integer (nullable = true)\n",
      " |-- Customer Age: double (nullable = true)\n",
      " |-- Device Used: string (nullable = true)\n",
      " |-- Shipping Address: string (nullable = true)\n",
      " |-- Billing Address: string (nullable = true)\n",
      " |-- Is Fraudulent: integer (nullable = true)\n",
      " |-- Account Age Days: integer (nullable = true)\n",
      " |-- Transaction Hour: integer (nullable = true)\n",
      " |-- Address Match: string (nullable = false)\n",
      " |-- Amount_Age_Interaction: double (nullable = true)\n",
      " |-- Unusual Combo: string (nullable = true)\n",
      " |-- Payment Method_Index: double (nullable = false)\n",
      " |-- Product Category_Index: double (nullable = false)\n",
      " |-- Device Used_Index: double (nullable = false)\n",
      " |-- Address Match_Index: double (nullable = false)\n",
      " |-- Payment Method_Vec: vector (nullable = true)\n",
      " |-- Product Category_Vec: vector (nullable = true)\n",
      " |-- Device Used_Vec: vector (nullable = true)\n",
      " |-- Address Match_Vec: vector (nullable = true)\n",
      " |-- NumFeatures: vector (nullable = true)\n",
      " |-- ScaledNumFeatures: vector (nullable = true)\n",
      " |-- features: vector (nullable = true)\n",
      "\n"
     ]
    }
   ],
   "source": [
    "train_final.printSchema()"
   ]
  },
  {
   "cell_type": "markdown",
   "metadata": {},
   "source": [
    "## 3.2 Predictive models"
   ]
  },
  {
   "cell_type": "markdown",
   "metadata": {},
   "source": [
    "### Naive Bayes\n",
    "\n",
    "I will start with Naive Bayes, as it is a simple model that doesn't require intese computation. It will be a good baseline to understand the basic patterns in the data and how the assumptions hold. "
   ]
  },
  {
   "cell_type": "code",
   "execution_count": 93,
   "metadata": {
    "scrolled": false
   },
   "outputs": [
    {
     "name": "stdout",
     "output_type": "stream",
     "text": [
      "Area under ROC for Naive Bayes model: 0.5053118458664386\n",
      "Precision for Naive Bayes model: 0.7786862000205682\n",
      "Recall for Naive Bayes model: 0.6682039824278014\n",
      "F1 Score for Naive Bayes model: 0.538931505271224\n",
      "+----------+-------------+--------------------+\n",
      "|prediction|Is Fraudulent|         probability|\n",
      "+----------+-------------+--------------------+\n",
      "|       0.0|            0|[0.63401861338723...|\n",
      "|       0.0|            0|[0.63630837852209...|\n",
      "|       0.0|            0|[0.74596037805626...|\n",
      "|       0.0|            0|[0.66346723041526...|\n",
      "|       0.0|            0|[0.71690067610422...|\n",
      "+----------+-------------+--------------------+\n",
      "only showing top 5 rows\n",
      "\n"
     ]
    }
   ],
   "source": [
    "# I will first initialise the Naive Bayes model\n",
    "nb = NaiveBayes(featuresCol='features', labelCol='Is Fraudulent', smoothing=1.0, modelType='multinomial')\n",
    "\n",
    "# Now I will train the model\n",
    "nb_model = nb.fit(train_final)\n",
    "\n",
    "# Next I will predict it on the test data\n",
    "nb_predictions = nb_model.transform(test_final)\n",
    "\n",
    "# Evaluating the model\n",
    "evaluator = BinaryClassificationEvaluator(labelCol='Is Fraudulent', rawPredictionCol=\"prediction\", metricName='areaUnderROC')\n",
    "\n",
    "# I will now calculate AUC (Area Under the Curve)\n",
    "auc = evaluator.evaluate(nb_predictions)\n",
    "print(f\"Area under ROC for Naive Bayes model: {auc}\")\n",
    "\n",
    "# Now I will initialise the evaluator\n",
    "evaluatorMulti = MulticlassClassificationEvaluator(labelCol=\"Is Fraudulent\", predictionCol=\"prediction\")\n",
    "\n",
    "# Next I would like to calculate the average precision, recall, and F1-score\n",
    "precision = evaluatorMulti.evaluate(nb_predictions, {evaluatorMulti.metricName: \"weightedPrecision\"})\n",
    "recall = evaluatorMulti.evaluate(nb_predictions, {evaluatorMulti.metricName: \"weightedRecall\"})\n",
    "f1 = evaluatorMulti.evaluate(nb_predictions, {evaluatorMulti.metricName: \"f1\"})\n",
    "\n",
    "print(f\"Precision for Naive Bayes model: {precision}\")\n",
    "print(f\"Recall for Naive Bayes model: {recall}\")\n",
    "print(f\"F1 Score for Naive Bayes model: {f1}\")\n",
    "\n",
    "\n",
    "# Show some predictions\n",
    "nb_predictions.select(\"prediction\", \"Is Fraudulent\", \"probability\").show(5)"
   ]
  },
  {
   "cell_type": "markdown",
   "metadata": {},
   "source": [
    "I evaluated the performance of the Naive Bayes model using various metrics to gain a comprehensive understanding of its effectiveness in detecting fraudulent transactions. The Area Under the ROC Curve (AUC) was approximately 0.505, indicating that the model performs similarly to random guessing, which suggests that Naive Bayes might not be well-suited for this dataset due to its underlying assumptions, such as feature independence, not holding true. The precision of the model was relatively high at about 77.87%, meaning that when the model predicted a transaction as fraudulent, it was correct approximately 77.87% of the time. However, the recall was only around 66.82%, indicating that the model missed about a third of actual fraudulent transactions. The F1 Score, which balances precision and recall, was 53.89%, reflecting the model's moderate effectiveness in managing the trade-off between missing frauds and incorrectly flagging legitimate transactions. This evaluation led me to consider exploring more complex models improve detection accuracy."
   ]
  },
  {
   "cell_type": "markdown",
   "metadata": {},
   "source": [
    "### Logistic Regression Model\n",
    "\n",
    "Next, this model will give me insights into the importance of the features and variables that play a role in predicting fraud. I chose to start with this model as it performs well on binary classification problems and can handle imbalanced data."
   ]
  },
  {
   "cell_type": "code",
   "execution_count": 95,
   "metadata": {
    "scrolled": true
   },
   "outputs": [
    {
     "name": "stdout",
     "output_type": "stream",
     "text": [
      "Area under ROC for Logistic Regression model: 0.7672720459313939\n",
      "Precision for Logistic Regression model: 0.7518021808947275\n",
      "Recall for Logistic Regression model: 0.7565858003351399\n",
      "F1 Score for Logistic Regression model: 0.7373961070321613\n",
      "+----------+-------------+--------------------+\n",
      "|prediction|Is Fraudulent|         probability|\n",
      "+----------+-------------+--------------------+\n",
      "|       0.0|            0|[0.62514259958898...|\n",
      "|       0.0|            0|[0.61493053845832...|\n",
      "|       0.0|            0|[0.95799865194316...|\n",
      "|       0.0|            0|[0.71447782595325...|\n",
      "|       0.0|            0|[0.89009742190818...|\n",
      "+----------+-------------+--------------------+\n",
      "only showing top 5 rows\n",
      "\n"
     ]
    }
   ],
   "source": [
    "# Again, first I will initialise the Logistic Regression model\n",
    "lr = LogisticRegression(featuresCol='features', labelCol='Is Fraudulent', maxIter=10)\n",
    "\n",
    "# Next I will train the model\n",
    "lr_model = lr.fit(train_final)\n",
    "\n",
    "# Then I will also predict it on the test data\n",
    "lr_predictions = lr_model.transform(test_final)\n",
    "\n",
    "# Initialising the binary and multi-class evaluators\n",
    "binaryEvaluator = BinaryClassificationEvaluator(labelCol='Is Fraudulent', metricName='areaUnderROC')\n",
    "multiclassEvaluator = MulticlassClassificationEvaluator(labelCol=\"Is Fraudulent\", predictionCol=\"prediction\")\n",
    "\n",
    "# Calculating the AUC\n",
    "auc = binaryEvaluator.evaluate(lr_predictions)\n",
    "print(f\"Area under ROC for Logistic Regression model: {auc}\")\n",
    "\n",
    "# I will now calculate the Precision, Recall, and F1 Score\n",
    "precision_lr = multiclassEvaluator.evaluate(lr_predictions, {multiclassEvaluator.metricName: \"weightedPrecision\"})\n",
    "recall_lr = multiclassEvaluator.evaluate(lr_predictions, {multiclassEvaluator.metricName: \"weightedRecall\"})\n",
    "f1_lr = multiclassEvaluator.evaluate(lr_predictions, {multiclassEvaluator.metricName: \"f1\"})\n",
    "\n",
    "print(f\"Precision for Logistic Regression model: {precision_lr}\")\n",
    "print(f\"Recall for Logistic Regression model: {recall_lr}\")\n",
    "print(f\"F1 Score for Logistic Regression model: {f1_lr}\")\n",
    "\n",
    "# Show some predictions\n",
    "lr_predictions.select(\"prediction\", \"Is Fraudulent\", \"probability\").show(5)"
   ]
  },
  {
   "cell_type": "markdown",
   "metadata": {},
   "source": [
    "The Logistic Regression model has shown a significant improvement with an Area Under the ROC (AUC) of approximately 0.767, compared to the Naive Bayes model. It demonstrates the ability to discriminate between fraudulent and non-fraudulent transactions. The model also showed a precision of approximately 0.752, indicating that a significant proportion of the identified fraudulent transactions were truly fraudulent. Furthermore, it achieved a recall of about 0.757, which implies that it successfully identified approximately 75.7% of all actual fraudulent transactions in the dataset. Additionally, the F1 Score, balancing precision and recall, was approximately 0.737. This shows a good model performance considering both false positives and false negatives. This improvement suggests that Logistic Regression is a better fit for the data. I assume this is likely due to its capability to handle correlated features and more complex relationships between variables."
   ]
  },
  {
   "cell_type": "markdown",
   "metadata": {},
   "source": [
    "### Decision Tree Model\n",
    "\n",
    "I chose to further build on the logistic regression model as the Decision Tree model helps to better understand the complex feature interactions and non-linear relationships. Since it can also be visualised, stakeholders will be able to better understand this. "
   ]
  },
  {
   "cell_type": "code",
   "execution_count": 97,
   "metadata": {
    "scrolled": true
   },
   "outputs": [
    {
     "name": "stdout",
     "output_type": "stream",
     "text": [
      "Area under ROC for Decision Tree model: 0.4393264018706144\n",
      "Precision for Decision Tree model: 0.7822333752229003\n",
      "Recall for Decision Tree model: 0.7872994067118552\n",
      "F1 Score for Decision Tree model: 0.778941277043155\n",
      "+----------+-------------+--------------------+\n",
      "|prediction|Is Fraudulent|         probability|\n",
      "+----------+-------------+--------------------+\n",
      "|       0.0|            0|[0.68095973825320...|\n",
      "|       0.0|            0|[0.68095973825320...|\n",
      "|       0.0|            0|[0.87086774906912...|\n",
      "|       0.0|            0|[0.68095973825320...|\n",
      "|       0.0|            0|[0.87086774906912...|\n",
      "+----------+-------------+--------------------+\n",
      "only showing top 5 rows\n",
      "\n",
      "DecisionTreeClassificationModel (uid=DecisionTreeClassifier_7e4e59f817a8) of depth 5 with 21 nodes\n",
      "  If (feature 12 <= 0.09752747252747253)\n",
      "   If (feature 13 <= 0.2391304347826087)\n",
      "    Predict: 1.0\n",
      "   Else (feature 13 > 0.2391304347826087)\n",
      "    If (feature 10 <= 0.057327996473263934)\n",
      "     If (feature 12 <= 0.0728021978021978)\n",
      "      Predict: 1.0\n",
      "     Else (feature 12 > 0.0728021978021978)\n",
      "      Predict: 0.0\n",
      "    Else (feature 10 > 0.057327996473263934)\n",
      "     If (feature 10 <= 0.09061457383602682)\n",
      "      If (feature 12 <= 0.0728021978021978)\n",
      "       Predict: 1.0\n",
      "      Else (feature 12 > 0.0728021978021978)\n",
      "       Predict: 0.0\n",
      "     Else (feature 10 > 0.09061457383602682)\n",
      "      Predict: 1.0\n",
      "  Else (feature 12 > 0.09752747252747253)\n",
      "   If (feature 10 <= 0.09061457383602682)\n",
      "    If (feature 13 <= 0.2391304347826087)\n",
      "     If (feature 10 <= 0.03185734753378954)\n",
      "      Predict: 0.0\n",
      "     Else (feature 10 > 0.03185734753378954)\n",
      "      If (feature 10 <= 0.057327996473263934)\n",
      "       Predict: 0.0\n",
      "      Else (feature 10 > 0.057327996473263934)\n",
      "       Predict: 1.0\n",
      "    Else (feature 13 > 0.2391304347826087)\n",
      "     Predict: 0.0\n",
      "   Else (feature 10 > 0.09061457383602682)\n",
      "    Predict: 1.0\n",
      "\n"
     ]
    }
   ],
   "source": [
    "# Initialising the Decision Tree Classifier\n",
    "dt = DecisionTreeClassifier(featuresCol='features', labelCol='Is Fraudulent')\n",
    "\n",
    "# Training the model on the training data\n",
    "dt_model = dt.fit(train_final)\n",
    "\n",
    "# Making predictions on the test data\n",
    "dt_predictions = dt_model.transform(test_final)\n",
    "\n",
    "# Initialising the binary evaluator for ROC metric\n",
    "binary_evaluator = BinaryClassificationEvaluator(labelCol=\"Is Fraudulent\", rawPredictionCol=\"rawPrediction\", metricName=\"areaUnderROC\")\n",
    "\n",
    "# Evaluating the model using Area Under ROC\n",
    "dt_auc = binary_evaluator.evaluate(dt_predictions)\n",
    "print(f\"Area under ROC for Decision Tree model: {dt_auc}\")\n",
    "\n",
    "# Initialising the multiclass evaluator for precision, recall, and F1-score\n",
    "evaluatorMulti = MulticlassClassificationEvaluator(labelCol=\"Is Fraudulent\", predictionCol=\"prediction\")\n",
    "\n",
    "# Calculating the precision, recall, and F1-score\n",
    "precision_dt = evaluatorMulti.evaluate(dt_predictions, {evaluatorMulti.metricName: \"weightedPrecision\"})\n",
    "recall_dt = evaluatorMulti.evaluate(dt_predictions, {evaluatorMulti.metricName: \"weightedRecall\"})\n",
    "f1_dt = evaluatorMulti.evaluate(dt_predictions, {evaluatorMulti.metricName: \"f1\"})\n",
    "\n",
    "print(f\"Precision for Decision Tree model: {precision_dt}\")\n",
    "print(f\"Recall for Decision Tree model: {recall_dt}\")\n",
    "print(f\"F1 Score for Decision Tree model: {f1_dt}\")\n",
    "\n",
    "# Showing some predictions\n",
    "dt_predictions.select(\"prediction\", \"Is Fraudulent\", \"probability\").show(5)\n",
    "\n",
    "# Print the decision tree model structure\n",
    "print(dt_model.toDebugString)"
   ]
  },
  {
   "cell_type": "markdown",
   "metadata": {},
   "source": [
    "I applied a Decision Tree model to the data to see the patterns and classify transactions as either fraudulent or legitimate based on their features. After training the model on a segmented dataset, I tested its ability to predict fraud in unseen data, achieving an Area Under the ROC of approximately 0.439. This metric indicates the model's capability to differentiate between the classes and the low score suggests that it needs to be improved. Additionally, I assessed the model's precision, recall, and F1 score, which stood at 0.782, 0.787, and 0.779, respectively. These metrics provided a deeper insight into the model’s performance, confirming a reasonable balance between sensitivity and specificity. I visualised some of the model's predictions to verify the probability distributions and classification outcomes. The Decision Tree's structure, detailed down to 21 nodes, enabled a granular look at how various thresholds and features drive the model's decisions, revealing the complexity and the specific conditions under which transactions are classified as fraudulent. This detailed analysis helped in understanding the model's decision-making process and offered a clear view of how features such as transaction hour, amount, and others influence predictions."
   ]
  },
  {
   "cell_type": "markdown",
   "metadata": {},
   "source": [
    "### Random Forest\n",
    "\n",
    "I wanted to further build on the previous models to see if there were any improvements on the decsion tree performance as it may help with any potential overfitting problems from multiple trees. According to the research of [3], Random forest is one of the most suitable models for predicting fraudulent transactions."
   ]
  },
  {
   "cell_type": "code",
   "execution_count": 100,
   "metadata": {},
   "outputs": [
    {
     "name": "stdout",
     "output_type": "stream",
     "text": [
      "Area under ROC for Random Forest model: 0.8052347726625946\n",
      "Precision for Random Forest model: 0.7804966298756856\n",
      "Recall for Random Forest model: 0.7842725804260201\n",
      "F1 Score for Random Forest model: 0.7726918087781702\n",
      "+----------+-------------+--------------------+\n",
      "|prediction|Is Fraudulent|         probability|\n",
      "+----------+-------------+--------------------+\n",
      "|       0.0|            0|[0.76090679611644...|\n",
      "|       0.0|            0|[0.77020654897538...|\n",
      "|       0.0|            0|[0.80836179198526...|\n",
      "|       0.0|            0|[0.77173544724893...|\n",
      "|       0.0|            0|[0.80784756890424...|\n",
      "+----------+-------------+--------------------+\n",
      "only showing top 5 rows\n",
      "\n",
      "Feature Importances: (15,[1,2,3,4,7,8,9,10,11,12,13,14],[4.0617857428730834e-05,3.4693014668977846e-05,1.1107490500581241e-05,3.0235881775928978e-05,2.5355822406617305e-05,1.900899816460797e-06,5.484164765672517e-06,0.30989725594192297,0.0007190292003609165,0.5250152758357958,0.09117472110130627,0.07304432278925102])\n"
     ]
    }
   ],
   "source": [
    "# Initialising the Random Forest Classifier\n",
    "rf = RandomForestClassifier(featuresCol='features', labelCol='Is Fraudulent', numTrees=10)\n",
    "\n",
    "# Training the model on the training data\n",
    "rf_model = rf.fit(train_final)\n",
    "\n",
    "# Making predictions on the test data\n",
    "rf_predictions = rf_model.transform(test_final)\n",
    "\n",
    "# Initialising the binary evaluator for ROC metric\n",
    "binary_evaluator = BinaryClassificationEvaluator(labelCol=\"Is Fraudulent\", rawPredictionCol=\"probability\", metricName=\"areaUnderROC\")\n",
    "\n",
    "# Evaluating the model using Area Under ROC\n",
    "rf_auc = binary_evaluator.evaluate(rf_predictions)\n",
    "print(f\"Area under ROC for Random Forest model: {rf_auc}\")\n",
    "\n",
    "# Initialising the multiclass evaluator for precision, recall, and F1-score\n",
    "evaluatorMulti = MulticlassClassificationEvaluator(labelCol=\"Is Fraudulent\", predictionCol=\"prediction\")\n",
    "\n",
    "# Calculating weighted precision, recall, and F1-score\n",
    "precision_rf = evaluatorMulti.evaluate(rf_predictions, {evaluatorMulti.metricName: \"weightedPrecision\"})\n",
    "recall_rf = evaluatorMulti.evaluate(rf_predictions, {evaluatorMulti.metricName: \"weightedRecall\"})\n",
    "f1_rf = evaluatorMulti.evaluate(rf_predictions, {evaluatorMulti.metricName: \"f1\"})\n",
    "\n",
    "print(f\"Precision for Random Forest model: {precision_rf}\")\n",
    "print(f\"Recall for Random Forest model: {recall_rf}\")\n",
    "print(f\"F1 Score for Random Forest model: {f1_rf}\")\n",
    "\n",
    "# Showing some predictions\n",
    "rf_predictions.select(\"prediction\", \"Is Fraudulent\", \"probability\").show(5)\n",
    "\n",
    "# Viewing feature importances\n",
    "print(\"Feature Importances:\", rf_model.featureImportances)"
   ]
  },
  {
   "cell_type": "markdown",
   "metadata": {},
   "source": [
    "I trained a Random Forest model to predict fraudulent transactions using a range of features derived from transaction data. This model achieved an Area Under the ROC of 0.8052, highlighting its strong discriminatory ability between fraudulent and legitimate transactions. The precision of the model was 0.7805, meaning it correctly identified 78.05% of fraudulent transactions as fraudulent, while the recall of 0.7843 indicates that it captured 78.43% of all actual fraudulent transactions in the dataset. The F1 Score, a balance between precision and recall, was 0.7727, underscoring the model's overall effectiveness.\n",
    "\n",
    "The Random Forest model used multiple decision trees, which collectively assessed the importance of different features in predicting fraud. The feature importances output revealed that some features were particularly influential in the model's decision-making process. For instance, specific features linked to the transaction amount and account characteristics were among the most critical in detecting fraud. This shows the nuanced approach of the model to identify patterns indicative of fraudulent activities."
   ]
  },
  {
   "cell_type": "markdown",
   "metadata": {},
   "source": [
    "### Gradient-Boosted Trees\n",
    "\n",
    "Finally, even though I am confident with the Random Forest model for predicting Fraud, I will use the Gradient-Boosted Trees to correct any mistakes from the previous trees and further improve the performance. This is useful for businesses, especially when using larger and complex datasets as it provides various parameters for fine-tuning."
   ]
  },
  {
   "cell_type": "code",
   "execution_count": 102,
   "metadata": {
    "scrolled": false
   },
   "outputs": [
    {
     "name": "stdout",
     "output_type": "stream",
     "text": [
      "Area under ROC for Gradient Boosted Trees model: 0.8171042257786937\n",
      "Precision for Gradient-Boosted Trees model: 0.7824381104264924\n",
      "Recall for Gradient-Boosted Trees model: 0.7877070092540873\n",
      "F1 Score for Gradient-Boosted Trees model: 0.7803076214514348\n",
      "+----------+-------------+--------------------+\n",
      "|prediction|Is Fraudulent|         probability|\n",
      "+----------+-------------+--------------------+\n",
      "|       0.0|            0|[0.70418650171902...|\n",
      "|       0.0|            0|[0.70708648879776...|\n",
      "|       0.0|            0|[0.87221669552643...|\n",
      "|       0.0|            0|[0.70708648879776...|\n",
      "|       0.0|            0|[0.87221669552643...|\n",
      "+----------+-------------+--------------------+\n",
      "only showing top 5 rows\n",
      "\n"
     ]
    }
   ],
   "source": [
    "# Initialising the Gradient Boosted Trees Classifier\n",
    "gbt = GBTClassifier(featuresCol='features', labelCol='Is Fraudulent', maxIter=10)\n",
    "\n",
    "# Training the model on the training data\n",
    "gbt_model = gbt.fit(train_final)\n",
    "\n",
    "# Making predictions on the test data\n",
    "gbt_predictions = gbt_model.transform(test_final)\n",
    "\n",
    "# Initialising the evaluator for binary classification, for the areaUnderROC metric\n",
    "binary_evaluator = BinaryClassificationEvaluator(labelCol=\"Is Fraudulent\")\n",
    "\n",
    "# Evaluate the model using Area Under ROC\n",
    "gbt_auc = binary_evaluator.evaluate(gbt_predictions)\n",
    "print(f\"Area under ROC for Gradient Boosted Trees model: {gbt_auc}\")\n",
    "\n",
    "# Initialising the multiclass evaluator for precision, recall, and F1-score\n",
    "evaluatorMulti = MulticlassClassificationEvaluator(labelCol=\"Is Fraudulent\", predictionCol=\"prediction\")\n",
    "\n",
    "# Calculating precision, recall, and F1-score using the weighted metrics\n",
    "precision_gbt = evaluatorMulti.evaluate(gbt_predictions, {evaluatorMulti.metricName: \"weightedPrecision\"})\n",
    "recall_gbt = evaluatorMulti.evaluate(gbt_predictions, {evaluatorMulti.metricName: \"weightedRecall\"})\n",
    "f1_gbt = evaluatorMulti.evaluate(gbt_predictions, {evaluatorMulti.metricName: \"f1\"})\n",
    "\n",
    "print(f\"Precision for Gradient-Boosted Trees model: {precision_gbt}\")\n",
    "print(f\"Recall for Gradient-Boosted Trees model: {recall_gbt}\")\n",
    "print(f\"F1 Score for Gradient-Boosted Trees model: {f1_gbt}\")\n",
    "\n",
    "# Showing some predictions\n",
    "gbt_predictions.select(\"prediction\", \"Is Fraudulent\", \"probability\").show(5)"
   ]
  },
  {
   "cell_type": "markdown",
   "metadata": {},
   "source": [
    "I developed and evaluated a Gradient Boosted Trees model to identify fraudulent transactions in the dataset. To assess the performance of this model, I used metrics such as the Area Under ROC, Precision, Recall, and the F1 Score. The Area Under ROC achieved a score of 0.8171, indicating a strong ability of the model to distinguish between fraudulent and non-fraudulent transactions. The Precision of the model was 0.7824, while the Recall was slightly higher at 0.7877, showing that the model is quite effective in identifying actual instances of fraud. The F1 Score for this model stood at 0.7803, confirming the balanced accuracy of the model. These results confirm that the Gradient Boosted Trees model is a robust tool for predicting fraudulent transactions. This model effectively captures the complexities of the transactional data, much like my earlier work where I classified transactions based on unusual combinations of 'Transaction Hour' and 'Quantity'."
   ]
  },
  {
   "cell_type": "markdown",
   "metadata": {},
   "source": [
    "### Hyperparameter Tuning: Cross Validation"
   ]
  },
  {
   "cell_type": "markdown",
   "metadata": {},
   "source": [
    "Finally to further refine my model, I will fine tune it for accuracy. This is a good practice for businesses as it refines and improves the accuracy of fraud prediction. Hyperparameters are essential in machine learning algorithms as they control the behavior of training processes and significantly impact model performance. Optimising hyperparameters achieves optimal model performance as it adjusts the parameters to find the best combination that maximises accuracy and effectiveness in various machine learning tasks [4]."
   ]
  },
  {
   "cell_type": "code",
   "execution_count": 104,
   "metadata": {},
   "outputs": [
    {
     "name": "stdout",
     "output_type": "stream",
     "text": [
      "Best Model's Area under ROC: 0.8188855713473334\n",
      "Precision: 0.7839314725945281\n",
      "Recall: 0.7888316903428391\n",
      "F1 Score: 0.7805108036059984\n",
      "+----------+-------------+--------------------+\n",
      "|prediction|Is Fraudulent|         probability|\n",
      "+----------+-------------+--------------------+\n",
      "|       0.0|            0|[0.72137663257938...|\n",
      "|       0.0|            0|[0.7327871063099,...|\n",
      "|       0.0|            0|[0.89173340451238...|\n",
      "|       0.0|            0|[0.74032005517859...|\n",
      "|       0.0|            0|[0.89342939531932...|\n",
      "+----------+-------------+--------------------+\n",
      "only showing top 5 rows\n",
      "\n"
     ]
    }
   ],
   "source": [
    "# Initialising the Gradient Boosted Trees Classifier\n",
    "gbt = GBTClassifier(featuresCol='features', labelCol='Is Fraudulent')\n",
    "\n",
    "# Creating the parameter grid\n",
    "paramGrid = (ParamGridBuilder()\n",
    "             .addGrid(gbt.maxDepth, [2, 4, 6])  # Depths of the trees\n",
    "             .addGrid(gbt.maxIter, [10, 20])    # Number of trees\n",
    "             .build())\n",
    "\n",
    "# Initialising the binary evaluator for ROC metric\n",
    "binary_evaluator = BinaryClassificationEvaluator(labelCol=\"Is Fraudulent\")\n",
    "\n",
    "# Set up 3-fold cross-validation\n",
    "crossval = CrossValidator(estimator=gbt,\n",
    "                          estimatorParamMaps=paramGrid,\n",
    "                          evaluator=binary_evaluator,\n",
    "                          numFolds=3)\n",
    "\n",
    "# Fitting the model\n",
    "cvModel = crossval.fit(train_final)\n",
    "\n",
    "# Using the best model\n",
    "bestModel = cvModel.bestModel\n",
    "\n",
    "# Evaluating the best model on the test set\n",
    "predictions = bestModel.transform(test_final)\n",
    "auc = binary_evaluator.evaluate(predictions)\n",
    "print(f\"Best Model's Area under ROC: {auc}\")\n",
    "\n",
    "# Initialising the multiclass evaluator for additional metrics\n",
    "multiclass_evaluator = MulticlassClassificationEvaluator(labelCol=\"Is Fraudulent\", predictionCol=\"prediction\")\n",
    "\n",
    "# Calculating the Precision, Recall, and F1 Score\n",
    "precision = multiclass_evaluator.evaluate(predictions, {multiclass_evaluator.metricName: \"weightedPrecision\"})\n",
    "recall = multiclass_evaluator.evaluate(predictions, {multiclass_evaluator.metricName: \"weightedRecall\"})\n",
    "f1 = multiclass_evaluator.evaluate(predictions, {multiclass_evaluator.metricName: \"f1\"})\n",
    "\n",
    "print(f\"Precision: {precision}\")\n",
    "print(f\"Recall: {recall}\")\n",
    "print(f\"F1 Score: {f1}\")\n",
    "\n",
    "# Showing some predictions\n",
    "predictions.select(\"prediction\", \"Is Fraudulent\", \"probability\").show(5)"
   ]
  },
  {
   "cell_type": "markdown",
   "metadata": {},
   "source": [
    "I developed models to analyse the data by incorporating various features such as 'Transaction Hour', 'Quantity' of items purchased, and a distinctive column labeled 'Unusual Combo'. This classification tags transactions as \"Normal\" or \"Unusual\" based on the combination of 'Transaction Hour' and 'Quantity'. Specifically, I defined 'Unusual' transactions as those occurring outside of regular business hours (before 6 AM or after 8 PM) and involving a quantity of four or more items. I leveraged this tailored feature and employed a Gradient Boosted Tree model, which after thorough cross-validation, showed an excellent Area under ROC of 0.8188855713473334. The model's precision was quite high at 0.7839314725945281, with a recall of 0.7888316903428391, and an F1 Score of 0.7805108036059984. This indicates that there is a balanced performance between precision and recall. The predictions from the model, illustrated in a sample output, reflect the probability of transactions being fraudulent, providing clear insights and enhancing decision-making capabilities in identifying unusual transactional activities."
   ]
  },
  {
   "cell_type": "markdown",
   "metadata": {},
   "source": [
    "### Testing the best model on the test dataset"
   ]
  },
  {
   "cell_type": "code",
   "execution_count": 106,
   "metadata": {
    "scrolled": false
   },
   "outputs": [
    {
     "name": "stdout",
     "output_type": "stream",
     "text": [
      "Area under ROC on test set: 0.8188855713473338\n",
      "Accuracy on test set: 0.7888316903428391\n",
      "Precision on test set: 0.7839314725945281\n",
      "Recall on test set: 0.7888316903428391\n",
      "F1 Score on test set: 0.7805108036059984\n",
      "+----------+-------------+--------------------+\n",
      "|prediction|Is Fraudulent|         probability|\n",
      "+----------+-------------+--------------------+\n",
      "|       0.0|            0|[0.72137663257938...|\n",
      "|       0.0|            0|[0.7327871063099,...|\n",
      "|       0.0|            0|[0.89173340451238...|\n",
      "|       0.0|            0|[0.74032005517859...|\n",
      "|       0.0|            0|[0.89342939531932...|\n",
      "+----------+-------------+--------------------+\n",
      "only showing top 5 rows\n",
      "\n"
     ]
    }
   ],
   "source": [
    "# Since my best model is the Gradient Boosted Trees model I will use this to test on my test_final dataset.\n",
    "\n",
    "# I will first make predictions.\n",
    "predictions = bestModel.transform(test_final)\n",
    "\n",
    "# Next I will evaluate the predictions using Binary Classification Evaluator for ROC\n",
    "binary_evaluator = BinaryClassificationEvaluator(labelCol=\"Is Fraudulent\", rawPredictionCol=\"probability\", metricName=\"areaUnderROC\")\n",
    "roc_auc = binary_evaluator.evaluate(predictions)\n",
    "print(f\"Area under ROC on test set: {roc_auc}\")\n",
    "\n",
    "# I will now use the Multiclass Classification Evaluator for accuracy\n",
    "multi_evaluator = MulticlassClassificationEvaluator(labelCol=\"Is Fraudulent\", predictionCol=\"prediction\")\n",
    "accuracy = multi_evaluator.evaluate(predictions, {multi_evaluator.metricName: \"accuracy\"})\n",
    "print(f\"Accuracy on test set: {accuracy}\")\n",
    "\n",
    "# Now i will finallly calculate the Precision, Recall, and F1-score\n",
    "precision = multi_evaluator.evaluate(predictions, {multi_evaluator.metricName: \"weightedPrecision\"})\n",
    "recall = multi_evaluator.evaluate(predictions, {multi_evaluator.metricName: \"weightedRecall\"})  # same as accuracy in binary classification\n",
    "f1_score = multi_evaluator.evaluate(predictions, {multi_evaluator.metricName: \"f1\"})\n",
    "\n",
    "print(f\"Precision on test set: {precision}\")\n",
    "print(f\"Recall on test set: {recall}\")\n",
    "print(f\"F1 Score on test set: {f1_score}\")\n",
    "\n",
    "# Showing some prediction results\n",
    "predictions.select(\"prediction\", \"Is Fraudulent\", \"probability\").show(5)"
   ]
  },
  {
   "cell_type": "markdown",
   "metadata": {},
   "source": [
    "In my development of predictive models for identifying fraudulent transactions, I employed various features such as 'Transaction Hour' and 'Quantity' of items purchased, as well as a derived feature named 'Unusual Combo.' This categorisation was based on transactions that occur outside typical business hours, before 6 AM or after 8 PM It involves quantities that equal or exceed four, defining these as \"Unusual.\" Employing a Gradient Boosted Trees model optimised through cross-validation achieved good performance metrics on the test data set. The model displayed an Area under the ROC of approximately 0.819, reflecting a strong ability to differentiate between fraudulent and legitimate transactions. Additionally, the accuracy reached about 78.9%, with a precision of approximately 78.4%, and a recall of 78.9%. This illustrates a balanced sensitivity and specificity. The F1 Score, also stood at 0.781. These results are encouraging as they underscore the efficiancy of the model in flagging potential fraud while minimising false positives and negatives. This is crucial for maintaining trust and operational efficiency in transaction processing systems."
   ]
  },
  {
   "cell_type": "markdown",
   "metadata": {},
   "source": [
    "# 4. Component 3: Summary and Conclusions"
   ]
  },
  {
   "cell_type": "markdown",
   "metadata": {},
   "source": [
    "This coursework was aimed at using big data analytics to build a predictive model capable of identifying fraudulent transactions within an e-commerce environment. Using the power of distributed computing through Spark and Hadoop, this project aimed to go further than traditional analytical methods to accommodate a thoughtfully chosen dataset size. \n",
    "\n",
    "#### Project Recap\n",
    "\n",
    "The project focused on analysing a synthetic dataset, \"Fraudulent E-Commerce Transactions\". This had around 1.5 million records and was 393 MB in size. Each record in the dataset was detailed with 16 features, providing a solid foundation for understanding transaction patterns and behaviours associated with fraudulent activities. My main objective was to apply machine learning techniques to detect potentially fraudulent transactions by exploring various features such as the transaction amount, customer demographics, and transaction timing.\n",
    "\n",
    "#### Key Findings\n",
    "\n",
    "•\tModel Performance: I used multiple machine learning models, such as Naïve Bayes; Logistic Regression; Decision Trees; Random Forest and Gradient Boosted Trees. The Gradient Boosted Trees model was the most effective, achieving an Area Under the Receiver Operating Characteristic (ROC) Curve of 0.818. This model demonstrated a robust capability to discriminate between fraudulent and legitimate transactions.\n",
    "\n",
    "•\tFeature Importance: The analysis highlighted significant features that were useful in predicting fraud. For example, 'Transaction Amount' and 'Transaction Hour' were shown to be important predictors of fraud. This is useful in the real world as it offers insights into how different transaction features can influence fraud.\n",
    "\n",
    "•\tInsights into Fraud Dynamics: My project illustrated that fraudulent transactions are not randomly distributed but correlate with specific customer behaviours and transaction characteristics. For example, I found that there were high transaction amounts during unusual hours.\n",
    "\n",
    "#### Challenges Encountered\n",
    "\n",
    "•\tData Scalability: While the distributed nature of Spark and Hadoop facilitated the handling of large datasets, I faced challenges related to scalability. The choice of a 393 MB dataset was strategic and aimed to demontrate my methodology's effectiveness before scaling up. Model training and prediction took between 5 minutes to an hour to run, suggesting that the DSM may have had limited resources as many others were also running this. In addition, I faced several challenges in the spark context stating out-of-memory errors. Nevertheless, even though it may have taken a while to run, my choice of dataset size proved sufficient to validate the functionality of data processing pipelines while being manageable within the computational resources available.\n",
    "\n",
    "•\tModel Complexity: The complexity of the models and the depth of data required a careful balance between accuracy and performance. My initial models did not perform as expected, which necessitated further tuning and refinement.\n",
    "\n",
    "•\tSynthetic Data Limitations: The use of a synthetic dataset, while reducing privacy concerns, posed limitations regarding the generalisability of the model to real-world data. Since it was synthetic, it might not fully capture the nuanced behaviours seen in genuine customer transactions.\n",
    "\n",
    "#### Discussion\n",
    "\n",
    "The findings from this project are useful for both academic and practical applications in e-commerce fraud detection. By identifying key predictors of fraud and the effectiveness of various modelling approaches, the project contributes to ongoing efforts to secure e-commerce platforms against fraudulent activities. Furthermore, the exploration of data scalability and model complexity provides valuable insights into the operational challenges associated with big data analytics in fraud detection. This project proposal was made to be able to mimic tasks in the industry as predictive models could be used to predict fraud. Pyspark and MLib can run in a distributed manner and larger datasets of the same data used in the industry can be run with the same code. However, the models should be trained again to improve the predictive accuracy, maybe every few months depending on the application. Overall, the project proposal provides a foundation for more effective and efficient fraud detection strategies for e-commerce.\n",
    "\n",
    "#### Recommendations for Future Work\n",
    "\n",
    "•\tEnhanced Data Collection: Future projects could benefit from using real transaction data to enhance the model's applicability to actual e-commerce scenarios.\n",
    "•\tAdvanced Modelling Techniques: Exploring more advanced machine learning techniques, such as deep learning, could potentially improve the detection accuracy by capturing more complex patterns in the data.\n",
    "•\tFeature Engineering: Further development of feature engineering techniques could show more indicators of fraud that were not apparent in my current models. For instance, the use of IP addresses and geographic features could be useful for identifying where fraud is more common. However, this was not done as it increases time and resources."
   ]
  },
  {
   "cell_type": "code",
   "execution_count": null,
   "metadata": {},
   "outputs": [],
   "source": [
    "# The spark context needs to be stopped at the end for others to run.\n",
    "#sc.stop()"
   ]
  },
  {
   "cell_type": "markdown",
   "metadata": {},
   "source": [
    "# 5. References"
   ]
  },
  {
   "cell_type": "markdown",
   "metadata": {},
   "source": [
    "[1]S. Malphrus, “Perspectives on Retail Payments Fraud,” Economic Perspectives, vol. 33, no. 1, pp. 31–36, Mar. 2009.\n",
    "[2]M. Arafat, S. Hoque, S. Xuand D. Farid, “Machine learning for mining imbalanced data”. University of Tasmania, 01-Jan-2019.\n",
    "[3]J. K. Afriyie et al., “A supervised machine learning algorithm for detecting and predicting fraud in credit card transactions,” Decision Analytics Journal, vol. 6, no. 100163, p. 100163, Mar. 2023, doi: https://doi.org/10.1016/j.dajour.2023.100163.\n",
    "[4]J. Wu, X.-Y. Chen, H. Zhang, L.-D. Xiong, H. Lei, and S.-H. Deng, “Hyperparameter Optimization for Machine Learning Models Based on Bayesian Optimizationb,” Journal of Electronic Science and Technology, vol. 17, no. 1, pp. 26–40, Mar. 2019, doi: https://doi.org/10.11989/JEST.1674-862X.80904120."
   ]
  }
 ],
 "metadata": {
  "kernelspec": {
   "display_name": "Python 3 (ipykernel)",
   "language": "python",
   "name": "python3"
  },
  "language_info": {
   "codemirror_mode": {
    "name": "ipython",
    "version": 3
   },
   "file_extension": ".py",
   "mimetype": "text/x-python",
   "name": "python",
   "nbconvert_exporter": "python",
   "pygments_lexer": "ipython3",
   "version": "3.11.5"
  }
 },
 "nbformat": 4,
 "nbformat_minor": 4
}
